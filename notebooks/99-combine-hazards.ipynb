{
 "cells": [
  {
   "cell_type": "markdown",
   "id": "3fa47db1-a09b-4fc2-b5c7-38a138b56e0b",
   "metadata": {
    "tags": []
   },
   "source": [
    "# Import Libraries"
   ]
  },
  {
   "cell_type": "code",
   "execution_count": 1,
   "id": "b810e99a-ba7b-49a9-95f9-2e98446b7445",
   "metadata": {
    "tags": []
   },
   "outputs": [],
   "source": [
    "import pandas as pd\n",
    "import geopandas as gpd\n",
    "import os"
   ]
  },
  {
   "cell_type": "code",
   "execution_count": 2,
   "id": "58b77bc7-1d87-4536-bdf7-c269599a047b",
   "metadata": {
    "tags": []
   },
   "outputs": [],
   "source": [
    "os.chdir('/Users/sabbirdelowar/projects/climate-hazard')"
   ]
  },
  {
   "cell_type": "markdown",
   "id": "c6a21ae5-94e5-469a-981b-83be3558c5a9",
   "metadata": {
    "tags": []
   },
   "source": [
    "# Define Paths"
   ]
  },
  {
   "cell_type": "code",
   "execution_count": 3,
   "id": "fa87f81e-59a5-465f-a0f5-040385ac45a9",
   "metadata": {
    "tags": []
   },
   "outputs": [],
   "source": [
    "district_shp = \"data/aoi/aoi-multipoly.shp\"\n",
    "\n",
    "flood_csv = \"results/individual-hazards/combined-flood-hazard.csv\"\n",
    "heat_csv = \"results/individual-hazards/heat-hazard.csv\"\n",
    "\n",
    "output_dir = \"results/total-hazard/\"\n",
    "os.makedirs(output_dir, exist_ok=True)\n",
    "\n",
    "output_csv = os.path.join(output_dir, \"total-hazard.csv\")\n",
    "output_shp = os.path.join(output_dir, \"total-hazard.shp\")"
   ]
  },
  {
   "cell_type": "markdown",
   "id": "a287b37f-3390-433c-a443-c73dc7bc3e22",
   "metadata": {
    "tags": []
   },
   "source": [
    "# Load and merge files"
   ]
  },
  {
   "cell_type": "code",
   "execution_count": 18,
   "id": "ca0685cc-a332-474d-a317-b19b2d50a6a6",
   "metadata": {
    "tags": []
   },
   "outputs": [
    {
     "name": "stdout",
     "output_type": "stream",
     "text": [
      "    district                                           geometry  \\\n",
      "0   Bagerhat  MULTIPOLYGON (((89.84021 21.82784, 89.84052 21...   \n",
      "1  Bandarban  POLYGON ((92.38065 22.33064, 92.38159 22.33002...   \n",
      "2    Barguna  MULTIPOLYGON (((89.87968 22.07869, 89.87865 22...   \n",
      "3    Barisal  MULTIPOLYGON (((90.55429 22.59271, 90.55435 22...   \n",
      "4      Bhola  MULTIPOLYGON (((90.77172 21.85595, 90.76920 21...   \n",
      "\n",
      "   heavy_rain_months  rainfall_hazard  hand_hazard  combined_flood_hazard  \\\n",
      "0                  9          0.28125       0.5450               0.413125   \n",
      "1                 20          0.62500       0.5398               0.582400   \n",
      "2                  7          0.21875       0.3734               0.296075   \n",
      "3                  1          0.03125       0.4516               0.241425   \n",
      "4                 12          0.37500       0.3461               0.360550   \n",
      "\n",
      "   heatwave_days  heat_hazard  \n",
      "0            111     0.516779  \n",
      "1            183     1.000000  \n",
      "2             52     0.120805  \n",
      "3             94     0.402685  \n",
      "4             45     0.073826  \n"
     ]
    }
   ],
   "source": [
    "gdf = gpd.read_file(district_shp)\n",
    "gdf = gdf[['name', 'geometry']].copy()\n",
    "gdf = gdf.rename(columns={'name': 'district'})\n",
    "\n",
    "flood_df = pd.read_csv(flood_csv)\n",
    "heat_df = pd.read_csv(heat_csv)\n",
    "\n",
    "hazard_df = gdf.merge(flood_df, on='district', how='left')\n",
    "hazard_df = hazard_df.merge(heat_df, on='district', how='left')\n",
    "print(hazard_df.head())"
   ]
  },
  {
   "cell_type": "markdown",
   "id": "b1ba7a09-0a61-47ee-a069-57fdfdb63127",
   "metadata": {
    "tags": []
   },
   "source": [
    "# Total hazard score"
   ]
  },
  {
   "cell_type": "code",
   "execution_count": 19,
   "id": "8c2ef3d4-4dea-4b49-8b43-efc810b3fbcf",
   "metadata": {
    "tags": []
   },
   "outputs": [],
   "source": [
    "hazard_df['total_hazard'] = (\n",
    "    hazard_df['combined_flood_hazard'] + \n",
    "    hazard_df['heat_hazard']\n",
    ")\n",
    "\n",
    "hazard_df = hazard_df.rename(columns={\n",
    "    'rainfall_hazard': 'rain_h',\n",
    "    'hand_hazard': 'hand_h',\n",
    "    'combined_flood_hazard': 'flood_h',\n",
    "    'heat_hazard': 'heat_h',\n",
    "    'total_hazard': 'total_h'\n",
    "})\n",
    "\n",
    "# Optionally normalize 0–1\n",
    "max_total = hazard_df['total_h'].max()\n",
    "hazard_df['total_h'] = hazard_df['total_h'] / max_total\n",
    "cols = ['district', 'rain_h', 'hand_h', 'flood_h', 'heat_h', 'total_h', 'geometry']\n",
    "hazard_df = hazard_df[cols]\n",
    "\n",
    "hazard_df_nogeo = hazard_df.drop(columns='geometry')\n",
    "hazard_df_nogeo.to_csv(output_csv, index=False)\n",
    "hazard_df.to_file(output_shp)"
   ]
  }
 ],
 "metadata": {
  "kernelspec": {
   "display_name": "climate-hazard",
   "language": "python",
   "name": "climate-hazard"
  },
  "language_info": {
   "codemirror_mode": {
    "name": "ipython",
    "version": 3
   },
   "file_extension": ".py",
   "mimetype": "text/x-python",
   "name": "python",
   "nbconvert_exporter": "python",
   "pygments_lexer": "ipython3",
   "version": "3.11.5"
  }
 },
 "nbformat": 4,
 "nbformat_minor": 5
}
