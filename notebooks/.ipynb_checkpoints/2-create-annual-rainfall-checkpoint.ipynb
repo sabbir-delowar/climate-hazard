{
 "cells": [
  {
   "cell_type": "markdown",
   "id": "828d5d04-df53-41ba-848e-fa5e8d74e165",
   "metadata": {},
   "source": [
    "# Import Libraries"
   ]
  },
  {
   "cell_type": "code",
   "execution_count": 1,
   "id": "6853bf2f-1456-494c-83f1-c326127c552b",
   "metadata": {},
   "outputs": [],
   "source": [
    "import os\n",
    "import xarray as xr\n",
    "import rioxarray\n",
    "import numpy as np\n",
    "import matplotlib.pyplot as plt"
   ]
  },
  {
   "cell_type": "code",
   "execution_count": 2,
   "id": "16ddef8f-cae2-4acf-a82a-21bad8410ba8",
   "metadata": {
    "tags": []
   },
   "outputs": [],
   "source": [
    "os.chdir('/Users/sabbirdelowar/Library/CloudStorage/GoogleDrive-sabbir.d.arnob@gmail.com/My Drive/My codes/bd-climate-risk/')"
   ]
  },
  {
   "cell_type": "markdown",
   "id": "c963d5f5-aa41-4208-9926-7b973677eb23",
   "metadata": {},
   "source": [
    "# Define Paths"
   ]
  },
  {
   "cell_type": "code",
   "execution_count": 3,
   "id": "527323c2-893a-44fb-9239-febf8e742b31",
   "metadata": {
    "tags": []
   },
   "outputs": [],
   "source": [
    "input_nc = \"data/interim/era5_precip_2020_2024.nc\"\n",
    "output_dir = \"data/interim\"\n",
    "os.makedirs(output_dir, exist_ok=True)\n",
    "output_tif = os.path.join(output_dir, \"mean_annual_rainfall_2020_2024.tif\")"
   ]
  },
  {
   "cell_type": "markdown",
   "id": "c7ac7948-e1be-4d85-b233-300e6f6d597e",
   "metadata": {
    "tags": []
   },
   "source": [
    "# Load ERA5 NetCDF and Average Across 5 Years"
   ]
  },
  {
   "cell_type": "code",
   "execution_count": 12,
   "id": "42ccaa80-ed3a-449d-ade6-9023857f77aa",
   "metadata": {
    "tags": []
   },
   "outputs": [],
   "source": [
    "ds = xr.open_dataset(input_nc)\n",
    "\n",
    "# Convert m to mm\n",
    "precip_mm = ds['tp'] * 1000  # m → mm\n",
    "\n",
    "# Add year coordinate\n",
    "precip_mm = precip_mm.assign_coords(\n",
    "    year=precip_mm['valid_time.year']\n",
    ")\n",
    "\n",
    "# Group by year and sum\n",
    "annual_rain = precip_mm.groupby('year').sum(dim='valid_time')\n",
    "\n",
    "# Average across 5 years\n",
    "mean_annual_rain = annual_rain.mean(dim='year')"
   ]
  },
  {
   "cell_type": "markdown",
   "id": "4cbcbe72-752c-4165-8c9f-180d7b7a03b2",
   "metadata": {
    "tags": []
   },
   "source": [
    "# Save as GeoTIFF"
   ]
  },
  {
   "cell_type": "code",
   "execution_count": 14,
   "id": "aa9cfdd8-3761-4702-bd67-e36ae0c46e91",
   "metadata": {
    "tags": []
   },
   "outputs": [],
   "source": [
    "mean_annual_rain = mean_annual_rain.rio.write_crs(\"EPSG:4326\")\n",
    "\n",
    "mean_annual_rain.rio.to_raster(output_tif)"
   ]
  }
 ],
 "metadata": {
  "kernelspec": {
   "display_name": "bd-climate-risk",
   "language": "python",
   "name": "bd-climate-risk"
  },
  "language_info": {
   "codemirror_mode": {
    "name": "ipython",
    "version": 3
   },
   "file_extension": ".py",
   "mimetype": "text/x-python",
   "name": "python",
   "nbconvert_exporter": "python",
   "pygments_lexer": "ipython3",
   "version": "3.13.2"
  }
 },
 "nbformat": 4,
 "nbformat_minor": 5
}
