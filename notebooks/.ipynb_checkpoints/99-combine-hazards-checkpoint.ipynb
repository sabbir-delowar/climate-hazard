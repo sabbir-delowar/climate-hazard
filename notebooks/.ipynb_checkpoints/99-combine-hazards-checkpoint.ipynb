{
 "cells": [
  {
   "cell_type": "markdown",
   "id": "3fa47db1-a09b-4fc2-b5c7-38a138b56e0b",
   "metadata": {
    "tags": []
   },
   "source": [
    "# Import Libraries"
   ]
  },
  {
   "cell_type": "code",
   "execution_count": 1,
   "id": "b810e99a-ba7b-49a9-95f9-2e98446b7445",
   "metadata": {
    "tags": []
   },
   "outputs": [],
   "source": [
    "import pandas as pd\n",
    "import geopandas as gpd\n",
    "import os"
   ]
  },
  {
   "cell_type": "code",
   "execution_count": 2,
   "id": "58b77bc7-1d87-4536-bdf7-c269599a047b",
   "metadata": {},
   "outputs": [],
   "source": [
    "os.chdir('/Users/sabbirdelowar/projects/climate-hazard')"
   ]
  },
  {
   "cell_type": "markdown",
   "id": "c6a21ae5-94e5-469a-981b-83be3558c5a9",
   "metadata": {
    "tags": []
   },
   "source": [
    "# Define Paths"
   ]
  },
  {
   "cell_type": "code",
   "execution_count": 3,
   "id": "fa87f81e-59a5-465f-a0f5-040385ac45a9",
   "metadata": {
    "tags": []
   },
   "outputs": [],
   "source": [
    "district_shp = \"data/aoi/aoi-multipoly.shp\"\n",
    "\n",
    "flood_csv = \"results/individual-hazards/combined-flood-hazard.csv\"\n",
    "heat_csv = \"results/individual-hazards/heat-hazard.csv\"\n",
    "\n",
    "output_dir = \"results/total-hazard/\"\n",
    "os.makedirs(output_dir, exist_ok=True)\n",
    "\n",
    "output_csv = os.path.join(output_dir, \"total-hazard.csv\")\n",
    "output_shp = os.path.join(output_dir, \"total-hazard.shp\")"
   ]
  },
  {
   "cell_type": "markdown",
   "id": "a287b37f-3390-433c-a443-c73dc7bc3e22",
   "metadata": {
    "tags": []
   },
   "source": [
    "# Load and merge files"
   ]
  },
  {
   "cell_type": "code",
   "execution_count": 15,
   "id": "ca0685cc-a332-474d-a317-b19b2d50a6a6",
   "metadata": {
    "tags": []
   },
   "outputs": [
    {
     "name": "stdout",
     "output_type": "stream",
     "text": [
      "    district                                           geometry  \\\n",
      "0   Bagerhat  MULTIPOLYGON (((89.84021 21.82784, 89.84052 21...   \n",
      "1  Bandarban  POLYGON ((92.38065 22.33064, 92.38159 22.33002...   \n",
      "2    Barguna  MULTIPOLYGON (((89.87968 22.07869, 89.87865 22...   \n",
      "3    Barisal  MULTIPOLYGON (((90.55429 22.59271, 90.55435 22...   \n",
      "4      Bhola  MULTIPOLYGON (((90.77172 21.85595, 90.76920 21...   \n",
      "\n",
      "   heavy_rain_months  rainfall_hazard  hand_hazard  combined_flood_hazard  \\\n",
      "0                  9          0.28125       0.5450               0.413125   \n",
      "1                 20          0.62500       0.5398               0.582400   \n",
      "2                  7          0.21875       0.3734               0.296075   \n",
      "3                  1          0.03125       0.4516               0.241425   \n",
      "4                 12          0.37500       0.3461               0.360550   \n",
      "\n",
      "   heatwave_days  heat_hazard  \n",
      "0            111     0.516779  \n",
      "1            183     1.000000  \n",
      "2             52     0.120805  \n",
      "3             94     0.402685  \n",
      "4             45     0.073826  \n"
     ]
    }
   ],
   "source": [
    "gdf = gpd.read_file(district_shp)\n",
    "gdf = gdf[['name', 'geometry']].copy()\n",
    "gdf = gdf.rename(columns={'name': 'district'})\n",
    "\n",
    "flood_df = pd.read_csv(flood_csv)\n",
    "heat_df = pd.read_csv(heat_csv)\n",
    "\n",
    "hazard_df = gdf.merge(flood_df, on='district', how='left')\n",
    "hazard_df = hazard_df.merge(heat_df, on='district', how='left')\n",
    "print(hazard_df.head())"
   ]
  },
  {
   "cell_type": "markdown",
   "id": "b1ba7a09-0a61-47ee-a069-57fdfdb63127",
   "metadata": {
    "tags": []
   },
   "source": [
    "# Total hazard score"
   ]
  },
  {
   "cell_type": "code",
   "execution_count": 16,
   "id": "8c2ef3d4-4dea-4b49-8b43-efc810b3fbcf",
   "metadata": {
    "tags": []
   },
   "outputs": [
    {
     "ename": "KeyError",
     "evalue": "\"['geometry'] not found in axis\"",
     "output_type": "error",
     "traceback": [
      "\u001b[0;31m---------------------------------------------------------------------------\u001b[0m",
      "\u001b[0;31mKeyError\u001b[0m                                  Traceback (most recent call last)",
      "Cell \u001b[0;32mIn[16], line 20\u001b[0m\n\u001b[1;32m     17\u001b[0m cols \u001b[38;5;241m=\u001b[39m [\u001b[38;5;124m'\u001b[39m\u001b[38;5;124mdistrict\u001b[39m\u001b[38;5;124m'\u001b[39m, \u001b[38;5;124m'\u001b[39m\u001b[38;5;124mrain_h\u001b[39m\u001b[38;5;124m'\u001b[39m, \u001b[38;5;124m'\u001b[39m\u001b[38;5;124mhand_h\u001b[39m\u001b[38;5;124m'\u001b[39m, \u001b[38;5;124m'\u001b[39m\u001b[38;5;124mflood_h\u001b[39m\u001b[38;5;124m'\u001b[39m, \u001b[38;5;124m'\u001b[39m\u001b[38;5;124mheat_h\u001b[39m\u001b[38;5;124m'\u001b[39m, \u001b[38;5;124m'\u001b[39m\u001b[38;5;124mtotal_h\u001b[39m\u001b[38;5;124m'\u001b[39m]\n\u001b[1;32m     18\u001b[0m hazard_df \u001b[38;5;241m=\u001b[39m hazard_df[cols]\n\u001b[0;32m---> 20\u001b[0m hazard_df_nogeo \u001b[38;5;241m=\u001b[39m hazard_df\u001b[38;5;241m.\u001b[39mdrop(columns\u001b[38;5;241m=\u001b[39m\u001b[38;5;124m'\u001b[39m\u001b[38;5;124mgeometry\u001b[39m\u001b[38;5;124m'\u001b[39m)\n\u001b[1;32m     21\u001b[0m hazard_df_nogeo\u001b[38;5;241m.\u001b[39mto_csv(output_csv, index\u001b[38;5;241m=\u001b[39m\u001b[38;5;28;01mFalse\u001b[39;00m)\n\u001b[1;32m     22\u001b[0m hazard_df\u001b[38;5;241m.\u001b[39mto_file(output_shp)\n",
      "File \u001b[0;32m~/anaconda3/lib/python3.11/site-packages/pandas/core/frame.py:5258\u001b[0m, in \u001b[0;36mDataFrame.drop\u001b[0;34m(self, labels, axis, index, columns, level, inplace, errors)\u001b[0m\n\u001b[1;32m   5110\u001b[0m \u001b[38;5;28;01mdef\u001b[39;00m \u001b[38;5;21mdrop\u001b[39m(\n\u001b[1;32m   5111\u001b[0m     \u001b[38;5;28mself\u001b[39m,\n\u001b[1;32m   5112\u001b[0m     labels: IndexLabel \u001b[38;5;241m=\u001b[39m \u001b[38;5;28;01mNone\u001b[39;00m,\n\u001b[0;32m   (...)\u001b[0m\n\u001b[1;32m   5119\u001b[0m     errors: IgnoreRaise \u001b[38;5;241m=\u001b[39m \u001b[38;5;124m\"\u001b[39m\u001b[38;5;124mraise\u001b[39m\u001b[38;5;124m\"\u001b[39m,\n\u001b[1;32m   5120\u001b[0m ) \u001b[38;5;241m-\u001b[39m\u001b[38;5;241m>\u001b[39m DataFrame \u001b[38;5;241m|\u001b[39m \u001b[38;5;28;01mNone\u001b[39;00m:\n\u001b[1;32m   5121\u001b[0m \u001b[38;5;250m    \u001b[39m\u001b[38;5;124;03m\"\"\"\u001b[39;00m\n\u001b[1;32m   5122\u001b[0m \u001b[38;5;124;03m    Drop specified labels from rows or columns.\u001b[39;00m\n\u001b[1;32m   5123\u001b[0m \n\u001b[0;32m   (...)\u001b[0m\n\u001b[1;32m   5256\u001b[0m \u001b[38;5;124;03m            weight  1.0     0.8\u001b[39;00m\n\u001b[1;32m   5257\u001b[0m \u001b[38;5;124;03m    \"\"\"\u001b[39;00m\n\u001b[0;32m-> 5258\u001b[0m     \u001b[38;5;28;01mreturn\u001b[39;00m \u001b[38;5;28msuper\u001b[39m()\u001b[38;5;241m.\u001b[39mdrop(\n\u001b[1;32m   5259\u001b[0m         labels\u001b[38;5;241m=\u001b[39mlabels,\n\u001b[1;32m   5260\u001b[0m         axis\u001b[38;5;241m=\u001b[39maxis,\n\u001b[1;32m   5261\u001b[0m         index\u001b[38;5;241m=\u001b[39mindex,\n\u001b[1;32m   5262\u001b[0m         columns\u001b[38;5;241m=\u001b[39mcolumns,\n\u001b[1;32m   5263\u001b[0m         level\u001b[38;5;241m=\u001b[39mlevel,\n\u001b[1;32m   5264\u001b[0m         inplace\u001b[38;5;241m=\u001b[39minplace,\n\u001b[1;32m   5265\u001b[0m         errors\u001b[38;5;241m=\u001b[39merrors,\n\u001b[1;32m   5266\u001b[0m     )\n",
      "File \u001b[0;32m~/anaconda3/lib/python3.11/site-packages/pandas/core/generic.py:4549\u001b[0m, in \u001b[0;36mNDFrame.drop\u001b[0;34m(self, labels, axis, index, columns, level, inplace, errors)\u001b[0m\n\u001b[1;32m   4547\u001b[0m \u001b[38;5;28;01mfor\u001b[39;00m axis, labels \u001b[38;5;129;01min\u001b[39;00m axes\u001b[38;5;241m.\u001b[39mitems():\n\u001b[1;32m   4548\u001b[0m     \u001b[38;5;28;01mif\u001b[39;00m labels \u001b[38;5;129;01mis\u001b[39;00m \u001b[38;5;129;01mnot\u001b[39;00m \u001b[38;5;28;01mNone\u001b[39;00m:\n\u001b[0;32m-> 4549\u001b[0m         obj \u001b[38;5;241m=\u001b[39m obj\u001b[38;5;241m.\u001b[39m_drop_axis(labels, axis, level\u001b[38;5;241m=\u001b[39mlevel, errors\u001b[38;5;241m=\u001b[39merrors)\n\u001b[1;32m   4551\u001b[0m \u001b[38;5;28;01mif\u001b[39;00m inplace:\n\u001b[1;32m   4552\u001b[0m     \u001b[38;5;28mself\u001b[39m\u001b[38;5;241m.\u001b[39m_update_inplace(obj)\n",
      "File \u001b[0;32m~/anaconda3/lib/python3.11/site-packages/pandas/core/generic.py:4591\u001b[0m, in \u001b[0;36mNDFrame._drop_axis\u001b[0;34m(self, labels, axis, level, errors, only_slice)\u001b[0m\n\u001b[1;32m   4589\u001b[0m         new_axis \u001b[38;5;241m=\u001b[39m axis\u001b[38;5;241m.\u001b[39mdrop(labels, level\u001b[38;5;241m=\u001b[39mlevel, errors\u001b[38;5;241m=\u001b[39merrors)\n\u001b[1;32m   4590\u001b[0m     \u001b[38;5;28;01melse\u001b[39;00m:\n\u001b[0;32m-> 4591\u001b[0m         new_axis \u001b[38;5;241m=\u001b[39m axis\u001b[38;5;241m.\u001b[39mdrop(labels, errors\u001b[38;5;241m=\u001b[39merrors)\n\u001b[1;32m   4592\u001b[0m     indexer \u001b[38;5;241m=\u001b[39m axis\u001b[38;5;241m.\u001b[39mget_indexer(new_axis)\n\u001b[1;32m   4594\u001b[0m \u001b[38;5;66;03m# Case for non-unique axis\u001b[39;00m\n\u001b[1;32m   4595\u001b[0m \u001b[38;5;28;01melse\u001b[39;00m:\n",
      "File \u001b[0;32m~/anaconda3/lib/python3.11/site-packages/pandas/core/indexes/base.py:6699\u001b[0m, in \u001b[0;36mIndex.drop\u001b[0;34m(self, labels, errors)\u001b[0m\n\u001b[1;32m   6697\u001b[0m \u001b[38;5;28;01mif\u001b[39;00m mask\u001b[38;5;241m.\u001b[39many():\n\u001b[1;32m   6698\u001b[0m     \u001b[38;5;28;01mif\u001b[39;00m errors \u001b[38;5;241m!=\u001b[39m \u001b[38;5;124m\"\u001b[39m\u001b[38;5;124mignore\u001b[39m\u001b[38;5;124m\"\u001b[39m:\n\u001b[0;32m-> 6699\u001b[0m         \u001b[38;5;28;01mraise\u001b[39;00m \u001b[38;5;167;01mKeyError\u001b[39;00m(\u001b[38;5;124mf\u001b[39m\u001b[38;5;124m\"\u001b[39m\u001b[38;5;132;01m{\u001b[39;00m\u001b[38;5;28mlist\u001b[39m(labels[mask])\u001b[38;5;132;01m}\u001b[39;00m\u001b[38;5;124m not found in axis\u001b[39m\u001b[38;5;124m\"\u001b[39m)\n\u001b[1;32m   6700\u001b[0m     indexer \u001b[38;5;241m=\u001b[39m indexer[\u001b[38;5;241m~\u001b[39mmask]\n\u001b[1;32m   6701\u001b[0m \u001b[38;5;28;01mreturn\u001b[39;00m \u001b[38;5;28mself\u001b[39m\u001b[38;5;241m.\u001b[39mdelete(indexer)\n",
      "\u001b[0;31mKeyError\u001b[0m: \"['geometry'] not found in axis\""
     ]
    }
   ],
   "source": [
    "hazard_df['total_hazard'] = (\n",
    "    hazard_df['combined_flood_hazard'] + \n",
    "    hazard_df['heat_hazard']\n",
    ")\n",
    "\n",
    "hazard_df = hazard_df.rename(columns={\n",
    "    'rainfall_hazard': 'rain_h',\n",
    "    'hand_hazard': 'hand_h',\n",
    "    'combined_flood_hazard': 'flood_h',\n",
    "    'heat_hazard': 'heat_h',\n",
    "    'total_hazard': 'total_h'\n",
    "})\n",
    "\n",
    "# Optionally normalize 0–1\n",
    "max_total = hazard_df['total_h'].max()\n",
    "hazard_df['total_h'] = hazard_df['total_h'] / max_total\n",
    "cols = ['district', 'rain_h', 'hand_h', 'flood_h', 'heat_h', 'total_h', 'geometry']\n",
    "hazard_df = hazard_df[cols]\n",
    "\n",
    "hazard_df_nogeo = hazard_df.drop(columns='geometry')\n",
    "hazard_df_nogeo.to_csv(output_csv, index=False)\n",
    "hazard_df.to_file(output_shp)"
   ]
  },
  {
   "cell_type": "code",
   "execution_count": null,
   "id": "0fb3b614-de0b-429b-8d3c-bbb3705939cf",
   "metadata": {},
   "outputs": [],
   "source": []
  }
 ],
 "metadata": {
  "kernelspec": {
   "display_name": "climate-hazard",
   "language": "python",
   "name": "climate-hazard"
  },
  "language_info": {
   "codemirror_mode": {
    "name": "ipython",
    "version": 3
   },
   "file_extension": ".py",
   "mimetype": "text/x-python",
   "name": "python",
   "nbconvert_exporter": "python",
   "pygments_lexer": "ipython3",
   "version": "3.11.5"
  }
 },
 "nbformat": 4,
 "nbformat_minor": 5
}
