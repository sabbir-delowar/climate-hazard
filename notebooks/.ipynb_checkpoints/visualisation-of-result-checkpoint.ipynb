{
 "cells": [
  {
   "cell_type": "code",
   "execution_count": 7,
   "id": "e4155bcb-1272-4b85-a664-b312c0fe0e9d",
   "metadata": {
    "tags": []
   },
   "outputs": [],
   "source": [
    "os.chdir('/Users/sabbirdelowar/projects/climate-hazard')"
   ]
  },
  {
   "cell_type": "code",
   "execution_count": 29,
   "id": "2e89be39-56e9-4f32-ace3-890c450dd97c",
   "metadata": {
    "tags": []
   },
   "outputs": [
    {
     "name": "stderr",
     "output_type": "stream",
     "text": [
      "/var/folders/jy/g9772s813r1_7hf30839fclc0000gn/T/ipykernel_41449/3598051833.py:44: MatplotlibDeprecationWarning: The get_cmap function was deprecated in Matplotlib 3.7 and will be removed two minor releases later. Use ``matplotlib.colormaps[name]`` or ``matplotlib.colormaps.get_cmap(obj)`` instead.\n",
      "  cmap=mpl.cm.get_cmap(cmap),\n",
      "/var/folders/jy/g9772s813r1_7hf30839fclc0000gn/T/ipykernel_41449/3598051833.py:44: MatplotlibDeprecationWarning: The get_cmap function was deprecated in Matplotlib 3.7 and will be removed two minor releases later. Use ``matplotlib.colormaps[name]`` or ``matplotlib.colormaps.get_cmap(obj)`` instead.\n",
      "  cmap=mpl.cm.get_cmap(cmap),\n",
      "/var/folders/jy/g9772s813r1_7hf30839fclc0000gn/T/ipykernel_41449/3598051833.py:44: MatplotlibDeprecationWarning: The get_cmap function was deprecated in Matplotlib 3.7 and will be removed two minor releases later. Use ``matplotlib.colormaps[name]`` or ``matplotlib.colormaps.get_cmap(obj)`` instead.\n",
      "  cmap=mpl.cm.get_cmap(cmap),\n",
      "/var/folders/jy/g9772s813r1_7hf30839fclc0000gn/T/ipykernel_41449/3598051833.py:44: MatplotlibDeprecationWarning: The get_cmap function was deprecated in Matplotlib 3.7 and will be removed two minor releases later. Use ``matplotlib.colormaps[name]`` or ``matplotlib.colormaps.get_cmap(obj)`` instead.\n",
      "  cmap=mpl.cm.get_cmap(cmap),\n",
      "/var/folders/jy/g9772s813r1_7hf30839fclc0000gn/T/ipykernel_41449/3598051833.py:44: MatplotlibDeprecationWarning: The get_cmap function was deprecated in Matplotlib 3.7 and will be removed two minor releases later. Use ``matplotlib.colormaps[name]`` or ``matplotlib.colormaps.get_cmap(obj)`` instead.\n",
      "  cmap=mpl.cm.get_cmap(cmap),\n"
     ]
    },
    {
     "name": "stdout",
     "output_type": "stream",
     "text": [
      "✅ All continuous gradient hazard maps saved to results/figures/\n"
     ]
    }
   ],
   "source": [
    "import geopandas as gpd\n",
    "import matplotlib as mpl\n",
    "import matplotlib.pyplot as plt\n",
    "import matplotlib.patheffects as patheffects\n",
    "import pandas as pd\n",
    "import os\n",
    "# import mapclassify\n",
    "\n",
    "# Path to your simplified shapefile\n",
    "shp_path = \"results/total-hazard/total-hazard.shp\"\n",
    "\n",
    "# Make sure output folder exists\n",
    "output_dir = \"results/figures\"\n",
    "os.makedirs(output_dir, exist_ok=True)\n",
    "\n",
    "# Column names and nice titles\n",
    "score_columns = {\n",
    "    'Rainfall Hazard': 'rain_h',\n",
    "    'HAND Hazard': 'hand_h',\n",
    "    'Flood Hazard': 'flood_h',\n",
    "    'Heat Hazard': 'heat_h',\n",
    "    'Total Hazard': 'total_h'\n",
    "}\n",
    "\n",
    "# Choose a single colormap for all: Reds (or OrRd, or YlOrRd, etc.)\n",
    "cmap = 'OrRd'\n",
    "\n",
    "gdf = gpd.read_file(shp_path)\n",
    "\n",
    "for title, col in score_columns.items():\n",
    "    fig, ax = plt.subplots(1, 1, figsize=(9, 8))\n",
    "\n",
    "    # Plot districts with a continuous gradient\n",
    "    gdf.plot(\n",
    "        column=col,\n",
    "        cmap=cmap,\n",
    "        linewidth=0.6, edgecolor='grey',  # boundaries\n",
    "        ax=ax,\n",
    "        legend=False\n",
    "    )\n",
    "\n",
    "    # Create a nice colorbar (continuous)\n",
    "    sm = plt.cm.ScalarMappable(\n",
    "        cmap=mpl.cm.get_cmap(cmap),\n",
    "        norm=plt.Normalize(vmin=gdf[col].min(), vmax=gdf[col].max())\n",
    "    )\n",
    "    sm._A = []\n",
    "    cbar = fig.colorbar(sm, ax=ax, shrink=0.7, aspect=25, pad=0.02)\n",
    "    cbar.set_label(\"Hazard Score (Relative)\", fontsize=13)\n",
    "    cbar.ax.tick_params(labelsize=11)\n",
    "\n",
    "    # Optional: highlight boundaries (if you want stronger lines)\n",
    "    # gdf.boundary.plot(ax=ax, linewidth=0.8, color='black')\n",
    "\n",
    "    ax.set_title(title, fontsize=18, fontweight='bold')\n",
    "    ax.axis('off')\n",
    "    gdf.boundary.plot(ax=ax, color='black', linewidth=1.5)\n",
    "   \n",
    "    # Remove empty white borders\n",
    "    plt.tight_layout()\n",
    "    plt.savefig(os.path.join(output_dir, f\"{col}_gradient_map.png\"), dpi=350, bbox_inches='tight')\n",
    "    plt.close()\n",
    "\n",
    "print(\"✅ All continuous gradient hazard maps saved to results/figures/\")"
   ]
  },
  {
   "cell_type": "code",
   "execution_count": null,
   "id": "45e50f60-2f24-4853-85a8-b081e487219d",
   "metadata": {},
   "outputs": [],
   "source": []
  }
 ],
 "metadata": {
  "kernelspec": {
   "display_name": "climate-hazard",
   "language": "python",
   "name": "climate-hazard"
  },
  "language_info": {
   "codemirror_mode": {
    "name": "ipython",
    "version": 3
   },
   "file_extension": ".py",
   "mimetype": "text/x-python",
   "name": "python",
   "nbconvert_exporter": "python",
   "pygments_lexer": "ipython3",
   "version": "3.11.5"
  }
 },
 "nbformat": 4,
 "nbformat_minor": 5
}
