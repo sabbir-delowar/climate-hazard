{
 "cells": [
  {
   "cell_type": "code",
   "execution_count": null,
   "id": "2e89be39-56e9-4f32-ace3-890c450dd97c",
   "metadata": {},
   "outputs": [],
   "source": [
    "import geopandas as gpd\n",
    "import matplotlib.pyplot as plt\n",
    "import numpy as np\n",
    "import os\n",
    "\n",
    "# Read the districts shapefile (already has hazard columns)\n",
    "gdf = gpd.read_file(\"results/total-hazard/total-hazard.shp\")\n",
    "\n",
    "# Column names as used in your CSV/shapefile\n",
    "score_columns = {\n",
    "    'Rainfall Hazard': 'rainfall_hazard',\n",
    "    'HAND Hazard': 'hand_hazard',\n",
    "    'Flood Hazard': 'flood_hazard',\n",
    "    'Heat Hazard': 'heat_hazard',\n",
    "    'Total Hazard': 'total_hazard'\n",
    "}\n",
    "\n",
    "output_dir = \"results/figures\"\n",
    "os.makedirs(output_dir, exist_ok=True)\n",
    "\n",
    "# Define class labels and colors for categorical maps\n",
    "categories = ['Low', 'Medium', 'High']\n",
    "category_colors = ['#a6cee3', '#1f78b4', '#b2df8a']  # Feel free to pick new ones\n",
    "\n",
    "def bin_column(data, col):\n",
    "    # 3 equal-width bins (labels: 0, 1, 2)\n",
    "    return pd.cut(data[col], bins=3, labels=categories)\n",
    "\n",
    "for title, col in score_columns.items():\n",
    "    fig, ax = plt.subplots(1, 1, figsize=(9, 8))\n",
    "    \n",
    "    if title == 'Total Hazard':\n",
    "        # Graduated (continuous)\n",
    "        gdf.plot(\n",
    "            column=col, ax=ax, legend=True,\n",
    "            cmap='Reds', scheme='equal_interval', k=3,\n",
    "            legend_kwds={'label': \"Total Hazard (Graduated)\", 'orientation': \"horizontal\"}\n",
    "        )\n",
    "    else:\n",
    "        # Categorical (Low/Medium/High)\n",
    "        gdf['category'] = bin_column(gdf, col)\n",
    "        gdf.plot(\n",
    "            column='category', ax=ax, legend=True,\n",
    "            cmap=plt.matplotlib.colors.ListedColormap(category_colors),\n",
    "            legend_kwds={'loc': 'lower left'}\n",
    "        )\n",
    "        ax.set_title(f\"{title} (Low/Medium/High)\")\n",
    "    \n",
    "    ax.axis('off')\n",
    "    plt.tight_layout()\n",
    "    plt.savefig(os.path.join(output_dir, f\"{col}_map.png\"), dpi=300)\n",
    "    plt.close()\n",
    "\n",
    "print(\"✅ All maps saved to results/figures/\")\n"
   ]
  }
 ],
 "metadata": {
  "kernelspec": {
   "display_name": "climate-hazard",
   "language": "python",
   "name": "climate-hazard"
  },
  "language_info": {
   "codemirror_mode": {
    "name": "ipython",
    "version": 3
   },
   "file_extension": ".py",
   "mimetype": "text/x-python",
   "name": "python",
   "nbconvert_exporter": "python",
   "pygments_lexer": "ipython3",
   "version": "3.11.5"
  }
 },
 "nbformat": 4,
 "nbformat_minor": 5
}
