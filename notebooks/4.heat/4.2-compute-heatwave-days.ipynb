{
 "cells": [
  {
   "cell_type": "markdown",
   "id": "34ee48d1-ea42-473b-be16-1b14493baf57",
   "metadata": {
    "tags": []
   },
   "source": [
    "# Import Libraries"
   ]
  },
  {
   "cell_type": "code",
   "execution_count": 1,
   "id": "99238ddb-bd8f-45c2-834e-ad5fa18f6eae",
   "metadata": {
    "tags": []
   },
   "outputs": [],
   "source": [
    "import os\n",
    "import xarray as xr\n",
    "import geopandas as gpd\n",
    "import rasterio\n",
    "import rasterio.mask\n",
    "import numpy as np\n",
    "import pandas as pd\n",
    "from tqdm import tqdm"
   ]
  },
  {
   "cell_type": "code",
   "execution_count": 2,
   "id": "e8b35ebc-5817-40e0-a674-4f39fb5cafb7",
   "metadata": {},
   "outputs": [],
   "source": [
    "os.chdir('/Users/sabbirdelowar/projects/climate-hazard')"
   ]
  },
  {
   "cell_type": "markdown",
   "id": "fd60d9d0-95e4-48f0-9d83-943e56b707ac",
   "metadata": {
    "tags": []
   },
   "source": [
    "# Define Paths"
   ]
  },
  {
   "cell_type": "code",
   "execution_count": 3,
   "id": "67f9e96d-1b9d-4e40-b302-816408e503a6",
   "metadata": {
    "tags": []
   },
   "outputs": [],
   "source": [
    "data_dir = \"data/interim/heat\"\n",
    "aoi_shp = \"data/aoi/aoi-multipoly.shp\"\n",
    "output_csv = \"results/individual-hazards/heat-hazard.csv\"\n",
    "\n",
    "years = [\"2020\", \"2021\", \"2022\", \"2023\", \"2024\"]\n",
    "threshold_C = 35"
   ]
  },
  {
   "cell_type": "markdown",
   "id": "2ab971a8-88ec-42d7-82f4-7d2b97169c4f",
   "metadata": {
    "tags": []
   },
   "source": [
    "# Load districts shapefile"
   ]
  },
  {
   "cell_type": "code",
   "execution_count": 4,
   "id": "237cb96d-4674-43d3-b5cc-edc3bec88bb8",
   "metadata": {
    "tags": []
   },
   "outputs": [],
   "source": [
    "districts = gpd.read_file(aoi_shp)\n",
    "districts = districts.to_crs(\"EPSG:4326\")\n",
    "districts = districts[['name', 'geometry']].copy()\n",
    "districts['heatwave_days'] = 0"
   ]
  },
  {
   "cell_type": "code",
   "execution_count": 15,
   "id": "fee837a7-ac59-4e7b-b93a-9329cc923527",
   "metadata": {
    "tags": []
   },
   "outputs": [
    {
     "name": "stdout",
     "output_type": "stream",
     "text": [
      "<xarray.Dataset>\n",
      "Dimensions:     (valid_time: 31, latitude: 61, longitude: 47)\n",
      "Coordinates:\n",
      "    number      int64 ...\n",
      "  * latitude    (latitude) float64 26.59 26.49 26.39 26.29 ... 20.79 20.69 20.59\n",
      "  * longitude   (longitude) float64 88.0 88.1 88.2 88.3 ... 92.3 92.4 92.5 92.6\n",
      "  * valid_time  (valid_time) datetime64[ns] 2024-01-01 2024-01-02 ... 2024-01-31\n",
      "Data variables:\n",
      "    t2m         (valid_time, latitude, longitude) float32 ...\n",
      "Attributes:\n",
      "    GRIB_centre:             ecmf\n",
      "    GRIB_centreDescription:  European Centre for Medium-Range Weather Forecasts\n",
      "    GRIB_subCentre:          0\n",
      "    Conventions:             CF-1.7\n",
      "    institution:             European Centre for Medium-Range Weather Forecasts\n",
      "    history:                 2025-07-05T21:53 GRIB to CDM+CF via cfgrib-0.9.1...\n",
      "284.8681640625 301.249755859375\n"
     ]
    }
   ],
   "source": [
    "heat_nc = xr.open_dataset(\"data/interim/heat/era5-daily-max-2020.nc\")\n",
    "print (heat_nc)\n",
    "temp_K = heat_nc['t2m']\n",
    "print(temp_K.min().item(), temp_K.max().item())"
   ]
  },
  {
   "cell_type": "markdown",
   "id": "20195653-fc63-4693-a42f-8173e65e7769",
   "metadata": {
    "tags": []
   },
   "source": [
    "# Collect district daily means"
   ]
  },
  {
   "cell_type": "code",
   "execution_count": 8,
   "id": "cfb74e51-23ec-4cf8-8a4d-9e99e3f36615",
   "metadata": {
    "tags": []
   },
   "outputs": [
    {
     "name": "stdout",
     "output_type": "stream",
     "text": [
      "✅ Reading data/interim/heat/era5-daily-max-2020.nc\n"
     ]
    },
    {
     "name": "stderr",
     "output_type": "stream",
     "text": [
      "Year 2020: 100%|█| 366/366 [0\n"
     ]
    },
    {
     "name": "stdout",
     "output_type": "stream",
     "text": [
      "✅ Reading data/interim/heat/era5-daily-max-2021.nc\n"
     ]
    },
    {
     "name": "stderr",
     "output_type": "stream",
     "text": [
      "Year 2021: 100%|█| 365/365 [07:36<\n"
     ]
    },
    {
     "name": "stdout",
     "output_type": "stream",
     "text": [
      "✅ Reading data/interim/heat/era5-daily-max-2022.nc\n"
     ]
    },
    {
     "name": "stderr",
     "output_type": "stream",
     "text": [
      "Year 2022: 100%|█| 365/365 [07:34<\n"
     ]
    },
    {
     "name": "stdout",
     "output_type": "stream",
     "text": [
      "✅ Reading data/interim/heat/era5-daily-max-2023.nc\n"
     ]
    },
    {
     "name": "stderr",
     "output_type": "stream",
     "text": [
      "Year 2023: 100%|█| 365/365 [07:24<\n"
     ]
    },
    {
     "name": "stdout",
     "output_type": "stream",
     "text": [
      "✅ Reading data/interim/heat/era5-daily-max-2024.nc\n"
     ]
    },
    {
     "name": "stderr",
     "output_type": "stream",
     "text": [
      "Year 2024: 100%|█| 366/366 [07:31<\n"
     ]
    }
   ],
   "source": [
    "import pandas as pd\n",
    "\n",
    "all_records = []\n",
    "\n",
    "for year in years:\n",
    "    nc_file = os.path.join(data_dir, f\"era5-daily-max-{year}.nc\")\n",
    "    print(f\"✅ Reading {nc_file}\")\n",
    "\n",
    "    ds = xr.open_dataset(nc_file)\n",
    "\n",
    "    # Get temperature variable\n",
    "    if '2m_air_temperature_maximum' in ds.data_vars:\n",
    "        temp_K = ds['2m_air_temperature_maximum']\n",
    "    elif 't2m' in ds.data_vars:\n",
    "        temp_K = ds['t2m']\n",
    "    else:\n",
    "        raise ValueError(\"No valid temperature variable found!\")\n",
    "\n",
    "    temp_C = temp_K - 273.15\n",
    "\n",
    "    for single_day in tqdm(temp_C['valid_time'].values, desc=f\"Year {year}\"):\n",
    "        day_slice = temp_C.sel(valid_time=single_day)\n",
    "        day_tif = os.path.join(data_dir, \"temp_day.tif\")\n",
    "        day_slice.rio.to_raster(day_tif)\n",
    "\n",
    "        with rasterio.open(day_tif) as src:\n",
    "            for idx, row in districts.iterrows():\n",
    "                geom = [row.geometry]\n",
    "                try:\n",
    "                    out_image, _ = rasterio.mask.mask(src, geom, crop=True)\n",
    "                    data = out_image[0]\n",
    "                    data = data[data > -100]\n",
    "\n",
    "                    if data.size > 0:\n",
    "                        mean_val = data.mean()\n",
    "                        all_records.append({\n",
    "                            'date': pd.to_datetime(single_day),\n",
    "                            'district': row['name'],\n",
    "                            'mean_temp': mean_val\n",
    "                        })\n",
    "                except ValueError:\n",
    "                    continue\n",
    "\n",
    "        os.remove(day_tif)"
   ]
  },
  {
   "cell_type": "markdown",
   "id": "396984c8-5b88-4224-9df5-3de292ae7708",
   "metadata": {
    "tags": []
   },
   "source": [
    "# Compute 75th percentile threshold"
   ]
  },
  {
   "cell_type": "code",
   "execution_count": 10,
   "id": "64e24875-5d10-403f-912e-78a1be246336",
   "metadata": {
    "tags": []
   },
   "outputs": [
    {
     "name": "stdout",
     "output_type": "stream",
     "text": [
      "✅ Data-derived heatwave threshold (75th percentile): 12.46 °C\n"
     ]
    }
   ],
   "source": [
    "df = pd.DataFrame(all_records)\n",
    "\n",
    "HEATWAVE_THRESHOLD_C = np.percentile(df['mean_temp'], 75)\n",
    "print(f\"✅ Data-derived heatwave threshold (75th percentile): {HEATWAVE_THRESHOLD_C:.2f} °C\")"
   ]
  },
  {
   "cell_type": "markdown",
   "id": "556741ea-18f9-4464-8583-1783f3c723bf",
   "metadata": {
    "tags": []
   },
   "source": [
    "# Count heatwave days per district"
   ]
  },
  {
   "cell_type": "code",
   "execution_count": 11,
   "id": "fd95ea7e-5eec-4b18-8079-7644524ee5e0",
   "metadata": {
    "tags": []
   },
   "outputs": [],
   "source": [
    "counts = df[df['mean_temp'] >= HEATWAVE_THRESHOLD_C].groupby('district').size()\n",
    "counts = counts.reindex(districts['name']).fillna(0).astype(int)\n",
    "\n",
    "districts['heatwave_days'] = counts.values"
   ]
  },
  {
   "cell_type": "markdown",
   "id": "b59f5cca-c7d7-4ce2-8f63-116647230ef7",
   "metadata": {
    "tags": []
   },
   "source": [
    "# Rescale to 0–1 hazard"
   ]
  },
  {
   "cell_type": "code",
   "execution_count": 12,
   "id": "f3956f95-ef7a-4867-89d4-dad2ef745c0d",
   "metadata": {
    "tags": []
   },
   "outputs": [],
   "source": [
    "min_days = districts['heatwave_days'].min()\n",
    "max_days = districts['heatwave_days'].max()\n",
    "\n",
    "districts['heat_hazard'] = (\n",
    "    (districts['heatwave_days'] - min_days) / (max_days - min_days)\n",
    ").clip(0, 1)\n",
    "\n",
    "districts[['name', 'heatwave_days', 'heat_hazard']].rename(\n",
    "    columns={'name':'district'}\n",
    ").to_csv(output_csv, index=False)"
   ]
  },
  {
   "cell_type": "code",
   "execution_count": null,
   "id": "a0f88b30-206d-4890-8f17-7a3a5deaf626",
   "metadata": {},
   "outputs": [],
   "source": []
  },
  {
   "cell_type": "markdown",
   "id": "54103490-592b-4a58-bd1c-a7b1ae01ade8",
   "metadata": {
    "tags": []
   },
   "source": [
    "# Process each year"
   ]
  },
  {
   "cell_type": "code",
   "execution_count": null,
   "id": "2c4be15e-5510-43d8-a299-dcf418184b78",
   "metadata": {
    "tags": []
   },
   "outputs": [],
   "source": [
    "for year in years:\n",
    "    nc_file = os.path.join(data_dir, f\"era5-daily-max-{year}.nc\")\n",
    "\n",
    "    # Load NetCDF\n",
    "    ds = xr.open_dataset(nc_file)\n",
    "\n",
    "    # Get variable\n",
    "    if '2m_air_temperature_maximum' in ds.data_vars:\n",
    "        temp_K = ds['2m_air_temperature_maximum']\n",
    "    elif 't2m' in ds.data_vars:\n",
    "        temp_K = ds['t2m']\n",
    "    else:\n",
    "        raise ValueError(\"No valid temperature variable found!\")\n",
    "\n",
    "    # Convert to Celsius\n",
    "    temp_C = temp_K - 273.15\n",
    "\n",
    "    # Loop over days\n",
    "    time_dim = temp_C['valid_time']\n",
    "    \n",
    "    for single_day in tqdm(time_dim.values, desc=f\"Year {year}\"):\n",
    "        day_slice = temp_C.sel(valid_time=single_day)\n",
    "        day_tif = os.path.join(data_dir, \"temp_day.tif\")\n",
    "        day_slice.rio.to_raster(day_tif)\n",
    "\n",
    "        # Open with Rasterio for masking\n",
    "        with rasterio.open(day_tif) as src:\n",
    "            for idx, row in districts.iterrows():\n",
    "                geom = [row.geometry]\n",
    "                try:\n",
    "                    out_image, _ = rasterio.mask.mask(src, geom, crop=True)\n",
    "                    data = out_image[0]\n",
    "                    data = data[data > -100]  # exclude nodata\n",
    "\n",
    "                    if data.size > 0:\n",
    "                        mean_temp = data.mean()\n",
    "                        if mean_temp >= threshold_C:\n",
    "                            districts.loc[idx, 'heatwave_days'] += 1\n",
    "\n",
    "                except ValueError:\n",
    "                    continue  # skip geometries outside raster\n",
    "\n",
    "        os.remove(day_tif)"
   ]
  }
 ],
 "metadata": {
  "kernelspec": {
   "display_name": "climate-hazard",
   "language": "python",
   "name": "climate-hazard"
  },
  "language_info": {
   "codemirror_mode": {
    "name": "ipython",
    "version": 3
   },
   "file_extension": ".py",
   "mimetype": "text/x-python",
   "name": "python",
   "nbconvert_exporter": "python",
   "pygments_lexer": "ipython3",
   "version": "3.11.5"
  }
 },
 "nbformat": 4,
 "nbformat_minor": 5
}
