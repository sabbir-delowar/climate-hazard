{
 "cells": [
  {
   "cell_type": "markdown",
   "id": "34ee48d1-ea42-473b-be16-1b14493baf57",
   "metadata": {
    "tags": []
   },
   "source": [
    "# Import Libraries"
   ]
  },
  {
   "cell_type": "code",
   "execution_count": 1,
   "id": "99238ddb-bd8f-45c2-834e-ad5fa18f6eae",
   "metadata": {
    "tags": []
   },
   "outputs": [],
   "source": [
    "import os\n",
    "import xarray as xr\n",
    "import geopandas as gpd\n",
    "import rasterio\n",
    "import rasterio.mask\n",
    "import numpy as np\n",
    "import pandas as pd\n",
    "from tqdm import tqdm"
   ]
  },
  {
   "cell_type": "code",
   "execution_count": 2,
   "id": "e8b35ebc-5817-40e0-a674-4f39fb5cafb7",
   "metadata": {},
   "outputs": [],
   "source": [
    "os.chdir('/Users/sabbirdelowar/projects/climate-hazard')"
   ]
  },
  {
   "cell_type": "markdown",
   "id": "fd60d9d0-95e4-48f0-9d83-943e56b707ac",
   "metadata": {
    "tags": []
   },
   "source": [
    "# Define Paths"
   ]
  },
  {
   "cell_type": "code",
   "execution_count": 3,
   "id": "67f9e96d-1b9d-4e40-b302-816408e503a6",
   "metadata": {
    "tags": []
   },
   "outputs": [],
   "source": [
    "data_dir = \"data/interim/heat\"\n",
    "aoi_shp = \"data/aoi/aoi-multipoly.shp\"\n",
    "output_csv = \"results/individual-hazards/heat-hazard.csv\"\n",
    "\n",
    "years = [\"2020\", \"2021\", \"2022\", \"2023\", \"2024\"]\n",
    "threshold_C = 35"
   ]
  },
  {
   "cell_type": "markdown",
   "id": "2ab971a8-88ec-42d7-82f4-7d2b97169c4f",
   "metadata": {
    "tags": []
   },
   "source": [
    "# Load districts shapefile"
   ]
  },
  {
   "cell_type": "code",
   "execution_count": 14,
   "id": "237cb96d-4674-43d3-b5cc-edc3bec88bb8",
   "metadata": {
    "tags": []
   },
   "outputs": [],
   "source": [
    "districts = gpd.read_file(aoi_shp)\n",
    "districts = districts.to_crs(\"EPSG:4326\")\n",
    "districts = districts[['name', 'geometry']].copy()\n",
    "districts['heatwave_days'] = 0\n",
    "HEATWAVE_THRESHOLD_C = 35"
   ]
  },
  {
   "cell_type": "markdown",
   "id": "20195653-fc63-4693-a42f-8173e65e7769",
   "metadata": {
    "tags": []
   },
   "source": [
    "# Collect district daily means"
   ]
  },
  {
   "cell_type": "code",
   "execution_count": 10,
   "id": "cfb74e51-23ec-4cf8-8a4d-9e99e3f36615",
   "metadata": {
    "tags": []
   },
   "outputs": [
    {
     "name": "stdout",
     "output_type": "stream",
     "text": [
      "✅ Reading data/interim/heat/era5-daily-max-2020.nc\n"
     ]
    },
    {
     "name": "stderr",
     "output_type": "stream",
     "text": [
      "Year 2020: 100%|█| 366/366 [07:08<\n"
     ]
    },
    {
     "name": "stdout",
     "output_type": "stream",
     "text": [
      "✅ Reading data/interim/heat/era5-daily-max-2021.nc\n"
     ]
    },
    {
     "name": "stderr",
     "output_type": "stream",
     "text": [
      "Year 2021: 100%|█| 365/365 [07:20<\n"
     ]
    },
    {
     "name": "stdout",
     "output_type": "stream",
     "text": [
      "✅ Reading data/interim/heat/era5-daily-max-2022.nc\n"
     ]
    },
    {
     "name": "stderr",
     "output_type": "stream",
     "text": [
      "Year 2022: 100%|█| 365/365 [07:29<\n"
     ]
    },
    {
     "name": "stdout",
     "output_type": "stream",
     "text": [
      "✅ Reading data/interim/heat/era5-daily-max-2023.nc\n"
     ]
    },
    {
     "name": "stderr",
     "output_type": "stream",
     "text": [
      "Year 2023: 100%|█| 365/365 [07:13<\n"
     ]
    },
    {
     "name": "stdout",
     "output_type": "stream",
     "text": [
      "✅ Reading data/interim/heat/era5-daily-max-2024.nc\n"
     ]
    },
    {
     "name": "stderr",
     "output_type": "stream",
     "text": [
      "Year 2024: 100%|█| 366/366 [07:22<\n"
     ]
    }
   ],
   "source": [
    "all_records = []\n",
    "\n",
    "for year in years:\n",
    "    nc_file = os.path.join(data_dir, f\"era5-daily-max-{year}.nc\")\n",
    "    print(f\"✅ Reading {nc_file}\")\n",
    "\n",
    "    ds = xr.open_dataset(nc_file)\n",
    "\n",
    "    # Get temperature variable\n",
    "    if '2m_air_temperature_maximum' in ds.data_vars:\n",
    "        temp_K = ds['2m_air_temperature_maximum']\n",
    "    elif 't2m' in ds.data_vars:\n",
    "        temp_K = ds['t2m']\n",
    "    else:\n",
    "        raise ValueError(\"No valid temperature variable found!\")\n",
    "\n",
    "    temp_C = temp_K - 273.15\n",
    "\n",
    "    for single_day in tqdm(temp_C['valid_time'].values, desc=f\"Year {year}\"):\n",
    "        day_slice = temp_C.sel(valid_time=single_day)\n",
    "        day_tif = os.path.join(data_dir, \"temp_day.tif\")\n",
    "        day_slice.rio.to_raster(day_tif)\n",
    "\n",
    "        with rasterio.open(day_tif) as src:\n",
    "            for idx, row in districts.iterrows():\n",
    "                geom = [row.geometry]\n",
    "                try:\n",
    "                    out_image, _ = rasterio.mask.mask(src, geom, crop=True)\n",
    "                    data = out_image[0]\n",
    "                    data = data[data > -100]\n",
    "\n",
    "                    if data.size > 0:\n",
    "                        max_val = data.max()\n",
    "                        all_records.append({\n",
    "                            'date': pd.to_datetime(single_day),\n",
    "                            'district': row['name'],\n",
    "                            'max_temp': max_val\n",
    "                        })\n",
    "                except ValueError:\n",
    "                    continue\n",
    "\n",
    "        os.remove(day_tif)"
   ]
  },
  {
   "cell_type": "code",
   "execution_count": 12,
   "id": "ba375c4c-73e8-4229-9f86-eec48006b09b",
   "metadata": {
    "tags": []
   },
   "outputs": [],
   "source": [
    "df = pd.DataFrame(all_records)\n",
    "df.to_csv(\"data/interim/heat/heat-hazard-records.csv\", index=False)"
   ]
  },
  {
   "cell_type": "code",
   "execution_count": null,
   "id": "40be1576-ea2d-4b92-a40a-0e6ce8d80bfe",
   "metadata": {},
   "outputs": [],
   "source": [
    "df = pd.read_csv(\"data/interim/heat/heat-hazard-records.csv\")"
   ]
  },
  {
   "cell_type": "markdown",
   "id": "396984c8-5b88-4224-9df5-3de292ae7708",
   "metadata": {
    "tags": []
   },
   "source": [
    "# Compute 75th percentile threshold"
   ]
  },
  {
   "cell_type": "code",
   "execution_count": 13,
   "id": "64e24875-5d10-403f-912e-78a1be246336",
   "metadata": {
    "tags": []
   },
   "outputs": [
    {
     "name": "stdout",
     "output_type": "stream",
     "text": [
      "✅ Data-derived heatwave threshold (95th percentile): 32.60 °C\n"
     ]
    }
   ],
   "source": [
    "# HEATWAVE_THRESHOLD_C = np.percentile(df['max_temp'], 75)\n",
    "# print(f\"✅ Data-derived heatwave threshold (95th percentile): {HEATWAVE_THRESHOLD_C:.2f} °C\")"
   ]
  },
  {
   "cell_type": "markdown",
   "id": "556741ea-18f9-4464-8583-1783f3c723bf",
   "metadata": {
    "tags": []
   },
   "source": [
    "# Count heatwave days per district"
   ]
  },
  {
   "cell_type": "code",
   "execution_count": 15,
   "id": "fd95ea7e-5eec-4b18-8079-7644524ee5e0",
   "metadata": {
    "tags": []
   },
   "outputs": [],
   "source": [
    "counts = df[df['max_temp'] >= HEATWAVE_THRESHOLD_C].groupby('district').size()\n",
    "counts = counts.reindex(districts['name']).fillna(0).astype(int)\n",
    "\n",
    "districts['heatwave_days'] = counts.values"
   ]
  },
  {
   "cell_type": "markdown",
   "id": "b59f5cca-c7d7-4ce2-8f63-116647230ef7",
   "metadata": {
    "tags": []
   },
   "source": [
    "# Rescale to 0–1 hazard"
   ]
  },
  {
   "cell_type": "code",
   "execution_count": 17,
   "id": "f3956f95-ef7a-4867-89d4-dad2ef745c0d",
   "metadata": {
    "tags": []
   },
   "outputs": [],
   "source": [
    "min_days = districts['heatwave_days'].min()\n",
    "max_days = districts['heatwave_days'].max()\n",
    "\n",
    "districts['heat_hazard'] = (\n",
    "    (districts['heatwave_days'] - min_days) / (max_days - min_days)\n",
    ").clip(0, 1)\n",
    "\n",
    "districts[['name', 'heatwave_days', 'heat_hazard']].rename(\n",
    "    columns={'name':'district'}\n",
    ").to_csv(output_csv, index=False)"
   ]
  },
  {
   "cell_type": "code",
   "execution_count": null,
   "id": "80c0f4ff-96e3-4b40-9139-d86b6666082f",
   "metadata": {},
   "outputs": [],
   "source": []
  }
 ],
 "metadata": {
  "kernelspec": {
   "display_name": "climate-hazard",
   "language": "python",
   "name": "climate-hazard"
  },
  "language_info": {
   "codemirror_mode": {
    "name": "ipython",
    "version": 3
   },
   "file_extension": ".py",
   "mimetype": "text/x-python",
   "name": "python",
   "nbconvert_exporter": "python",
   "pygments_lexer": "ipython3",
   "version": "3.11.5"
  }
 },
 "nbformat": 4,
 "nbformat_minor": 5
}
