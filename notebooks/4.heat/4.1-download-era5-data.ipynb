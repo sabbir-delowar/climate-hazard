{
 "cells": [
  {
   "cell_type": "markdown",
   "id": "93a7859b-b567-4319-885f-4c947de57dba",
   "metadata": {
    "tags": []
   },
   "source": [
    "# Import Libraries"
   ]
  },
  {
   "cell_type": "code",
   "execution_count": 1,
   "id": "362e229a-00e3-4deb-a277-fcc0c688d2d5",
   "metadata": {
    "tags": []
   },
   "outputs": [],
   "source": [
    "import cdsapi\n",
    "import xarray as xr\n",
    "import rioxarray\n",
    "import geopandas as gpd\n",
    "import matplotlib.pyplot as plt\n",
    "import pandas as pd\n",
    "import numpy as np\n",
    "import os"
   ]
  },
  {
   "cell_type": "code",
   "execution_count": 2,
   "id": "dc414799-2d7f-4c42-9471-48557ef5b586",
   "metadata": {},
   "outputs": [],
   "source": [
    "os.chdir('/Users/sabbirdelowar/projects/climate-hazard')"
   ]
  },
  {
   "cell_type": "markdown",
   "id": "ecf59d04-ccfa-49df-b2df-82df0fe1befe",
   "metadata": {
    "tags": []
   },
   "source": [
    "# Define Paths"
   ]
  },
  {
   "cell_type": "code",
   "execution_count": 3,
   "id": "4e359a91-4a04-48a6-9ebc-1fe393d0892d",
   "metadata": {
    "tags": []
   },
   "outputs": [],
   "source": [
    "data_dir = \"data/interim/heat\"\n",
    "os.makedirs(data_dir, exist_ok=True)\n",
    "\n",
    "aoi_shp = \"data/aoi/aoi-multipoly.shp\"\n",
    "era5_file = os.path.join(data_dir, \"era5-heat-monthly.nc\")\n",
    "annual_mean_tif = os.path.join(data_dir, \"annual-mean-temp.tif\")\n",
    "hazard_csv = \"results/individual-hazards/heat-hazard.csv\""
   ]
  },
  {
   "cell_type": "markdown",
   "id": "a4044bd9-dfe6-46a0-b2c3-6ac41397935f",
   "metadata": {
    "tags": []
   },
   "source": [
    "# Download ERA5 Data"
   ]
  },
  {
   "cell_type": "code",
   "execution_count": 12,
   "id": "1123760a-9c39-4968-b56d-a1cd32603603",
   "metadata": {
    "tags": []
   },
   "outputs": [
    {
     "name": "stdout",
     "output_type": "stream",
     "text": [
      "✅ Downloading 2020 to data/interim/heat/era5-daily-max-2020.nc\n"
     ]
    },
    {
     "name": "stderr",
     "output_type": "stream",
     "text": [
      "2025-07-05 14:35:06,420 INFO Request ID is db5f35b3-293c-40ef-afb9-33f3e561e406\n",
      "2025-07-05 14:35:06,509 INFO status has been updated to accepted\n",
      "2025-07-05 14:35:14,973 INFO status has been updated to running\n",
      "2025-07-05 15:09:28,362 INFO status has been updated to successful\n"
     ]
    },
    {
     "data": {
      "application/vnd.jupyter.widget-view+json": {
       "model_id": "",
       "version_major": 2,
       "version_minor": 0
      },
      "text/plain": [
       "7e636c50fb708770dc9c0846905f9032.nc:   0%|          | 0.00/1.63M [00:00<?, ?B/s]"
      ]
     },
     "metadata": {},
     "output_type": "display_data"
    },
    {
     "name": "stdout",
     "output_type": "stream",
     "text": [
      "✅ Downloading 2021 to data/interim/heat/era5-daily-max-2021.nc\n"
     ]
    },
    {
     "name": "stderr",
     "output_type": "stream",
     "text": [
      "2025-07-05 15:09:29,717 INFO Request ID is 76f11bec-ba9e-44e8-8fd7-7decdbaf2cbe\n",
      "2025-07-05 15:09:30,007 INFO status has been updated to accepted\n",
      "2025-07-05 15:10:19,938 INFO status has been updated to running\n",
      "2025-07-05 15:29:50,447 INFO status has been updated to successful\n"
     ]
    },
    {
     "data": {
      "application/vnd.jupyter.widget-view+json": {
       "model_id": "",
       "version_major": 2,
       "version_minor": 0
      },
      "text/plain": [
       "f7b7910425971cbca90d26c13662fbcf.nc:   0%|          | 0.00/1.63M [00:00<?, ?B/s]"
      ]
     },
     "metadata": {},
     "output_type": "display_data"
    },
    {
     "name": "stdout",
     "output_type": "stream",
     "text": [
      "✅ Downloading 2022 to data/interim/heat/era5-daily-max-2022.nc\n"
     ]
    },
    {
     "name": "stderr",
     "output_type": "stream",
     "text": [
      "2025-07-05 15:29:51,663 INFO Request ID is 0589f6cf-df8a-4f67-b09b-79376804d5ec\n",
      "2025-07-05 15:29:51,757 INFO status has been updated to accepted\n",
      "2025-07-05 15:30:41,819 INFO status has been updated to running\n",
      "2025-07-05 15:52:13,096 INFO status has been updated to successful\n"
     ]
    },
    {
     "data": {
      "application/vnd.jupyter.widget-view+json": {
       "model_id": "",
       "version_major": 2,
       "version_minor": 0
      },
      "text/plain": [
       "c5ad131c18ee0a03a9ab137bd20cfcc7.nc:   0%|          | 0.00/1.63M [00:00<?, ?B/s]"
      ]
     },
     "metadata": {},
     "output_type": "display_data"
    },
    {
     "name": "stdout",
     "output_type": "stream",
     "text": [
      "✅ Downloading 2023 to data/interim/heat/era5-daily-max-2023.nc\n"
     ]
    },
    {
     "name": "stderr",
     "output_type": "stream",
     "text": [
      "2025-07-05 15:52:14,513 INFO Request ID is 2a38ea08-7eb0-4391-8e05-ba7b47f9b50a\n",
      "2025-07-05 15:52:14,599 INFO status has been updated to accepted\n",
      "2025-07-05 15:52:47,621 INFO status has been updated to running\n",
      "2025-07-05 16:14:35,343 INFO status has been updated to successful\n"
     ]
    },
    {
     "data": {
      "application/vnd.jupyter.widget-view+json": {
       "model_id": "",
       "version_major": 2,
       "version_minor": 0
      },
      "text/plain": [
       "75f28c75da5a177b8df7dc83eed11ff7.nc:   0%|          | 0.00/1.63M [00:00<?, ?B/s]"
      ]
     },
     "metadata": {},
     "output_type": "display_data"
    },
    {
     "name": "stdout",
     "output_type": "stream",
     "text": [
      "✅ Downloading 2024 to data/interim/heat/era5-daily-max-2024.nc\n"
     ]
    },
    {
     "name": "stderr",
     "output_type": "stream",
     "text": [
      "2025-07-05 16:14:36,839 INFO Request ID is 45bf9872-aa02-4dc5-b792-ebc09073cb25\n",
      "2025-07-05 16:14:36,966 INFO status has been updated to accepted\n",
      "2025-07-05 16:15:27,022 INFO status has been updated to running\n",
      "2025-07-05 16:36:58,432 INFO status has been updated to successful\n"
     ]
    },
    {
     "data": {
      "application/vnd.jupyter.widget-view+json": {
       "model_id": "",
       "version_major": 2,
       "version_minor": 0
      },
      "text/plain": [
       "8bf23cd8c488e2c0d7f3434c426df7ba.nc:   0%|          | 0.00/1.64M [00:00<?, ?B/s]"
      ]
     },
     "metadata": {},
     "output_type": "display_data"
    }
   ],
   "source": [
    "aoi = gpd.read_file(aoi_shp)\n",
    "\n",
    "# Ensure it's in EPSG:4326\n",
    "aoi = aoi.to_crs(\"EPSG:4326\")\n",
    "\n",
    "# Get total bounding box\n",
    "minx, miny, maxx, maxy = aoi.total_bounds\n",
    "\n",
    "# ERA5 API wants: [North, West, South, East]\n",
    "bbox = [maxy, minx, miny, maxx]\n",
    "\n",
    "dataset = \"derived-era5-land-daily-statistics\"\n",
    "years = [\"2020\", \"2021\", \"2022\", \"2023\", \"2024\"]\n",
    "for year in years:\n",
    "    request = {\n",
    "        \"variable\": [\"2m_temperature\"],\n",
    "        \"year\": year,\n",
    "        \"month\": [\n",
    "            \"01\",\"02\",\"03\",\"04\",\"05\",\"06\",\n",
    "            \"07\",\"08\",\"09\",\"10\",\"11\",\"12\"\n",
    "        ],\n",
    "        \"day\": [\n",
    "        \"01\", \"02\", \"03\",\n",
    "        \"04\", \"05\", \"06\",\n",
    "        \"07\", \"08\", \"09\",\n",
    "        \"10\", \"11\", \"12\",\n",
    "        \"13\", \"14\", \"15\",\n",
    "        \"16\", \"17\", \"18\",\n",
    "        \"19\", \"20\", \"21\",\n",
    "        \"22\", \"23\", \"24\",\n",
    "        \"25\", \"26\", \"27\",\n",
    "        \"28\", \"29\", \"30\",\n",
    "        \"31\"\n",
    "        ],\n",
    "        \"daily_statistic\": \"daily_maximum\",\n",
    "        \"time_zone\": \"utc+06:00\",\n",
    "        \"frequency\": \"1_hourly\",\n",
    "        \"area\": bbox,\n",
    "    }\n",
    "    target_file = os.path.join(data_dir, f\"era5-daily-max-{year}.nc\")\n",
    "    print(f\"✅ Downloading {year} to {target_file}\")\n",
    "    client.retrieve(dataset, request, target=target_file)"
   ]
  }
 ],
 "metadata": {
  "kernelspec": {
   "display_name": "climate-hazard",
   "language": "python",
   "name": "climate-hazard"
  },
  "language_info": {
   "codemirror_mode": {
    "name": "ipython",
    "version": 3
   },
   "file_extension": ".py",
   "mimetype": "text/x-python",
   "name": "python",
   "nbconvert_exporter": "python",
   "pygments_lexer": "ipython3",
   "version": "3.11.5"
  }
 },
 "nbformat": 4,
 "nbformat_minor": 5
}
