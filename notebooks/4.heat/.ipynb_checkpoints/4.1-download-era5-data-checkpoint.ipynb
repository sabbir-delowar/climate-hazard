{
 "cells": [
  {
   "cell_type": "markdown",
   "id": "93a7859b-b567-4319-885f-4c947de57dba",
   "metadata": {
    "tags": []
   },
   "source": [
    "# Import Libraries"
   ]
  },
  {
   "cell_type": "code",
   "execution_count": 3,
   "id": "362e229a-00e3-4deb-a277-fcc0c688d2d5",
   "metadata": {
    "tags": []
   },
   "outputs": [],
   "source": [
    "import cdsapi\n",
    "import xarray as xr\n",
    "import rioxarray\n",
    "import geopandas as gpd\n",
    "import matplotlib.pyplot as plt\n",
    "import pandas as pd\n",
    "import numpy as np\n",
    "import os"
   ]
  },
  {
   "cell_type": "code",
   "execution_count": 4,
   "id": "dc414799-2d7f-4c42-9471-48557ef5b586",
   "metadata": {},
   "outputs": [],
   "source": [
    "os.chdir('/Users/sabbirdelowar/projects/climate-hazard')"
   ]
  },
  {
   "cell_type": "markdown",
   "id": "ecf59d04-ccfa-49df-b2df-82df0fe1befe",
   "metadata": {
    "tags": []
   },
   "source": [
    "# Define Paths"
   ]
  },
  {
   "cell_type": "code",
   "execution_count": 5,
   "id": "4e359a91-4a04-48a6-9ebc-1fe393d0892d",
   "metadata": {
    "tags": []
   },
   "outputs": [],
   "source": [
    "data_dir = \"data/interim/heat\"\n",
    "os.makedirs(data_dir, exist_ok=True)\n",
    "\n",
    "aoi_shp = \"data/aoi/aoi-multipoly.shp\"\n",
    "era5_file = os.path.join(data_dir, \"era5-heat-monthly.nc\")\n",
    "annual_mean_tif = os.path.join(data_dir, \"annual-mean-temp.tif\")\n",
    "hazard_csv = \"results/individual-hazards/heat-hazard.csv\""
   ]
  },
  {
   "cell_type": "markdown",
   "id": "a4044bd9-dfe6-46a0-b2c3-6ac41397935f",
   "metadata": {
    "tags": []
   },
   "source": [
    "# Download ERA5 Data"
   ]
  },
  {
   "cell_type": "code",
   "execution_count": 11,
   "id": "1123760a-9c39-4968-b56d-a1cd32603603",
   "metadata": {
    "tags": []
   },
   "outputs": [
    {
     "name": "stderr",
     "output_type": "stream",
     "text": [
      "2025-07-05 01:28:23,838 INFO [2024-09-26T00:00:00] Watch our [Forum](https://forum.ecmwf.int/) for Announcements, news and other discussed topics.\n",
      "2025-07-05 01:28:24,042 INFO Request ID is 7f00c8fc-a8a8-441c-a9b4-70f767250580\n",
      "2025-07-05 01:28:24,125 INFO status has been updated to accepted\n",
      "2025-07-05 01:28:32,677 INFO status has been updated to running\n",
      "2025-07-05 01:29:14,127 INFO status has been updated to successful\n"
     ]
    },
    {
     "data": {
      "application/vnd.jupyter.widget-view+json": {
       "model_id": "",
       "version_major": 2,
       "version_minor": 0
      },
      "text/plain": [
       "753e8d6d9e79413e45e2a8dd25fa4ed4.nc:   0%|          | 0.00/294k [00:00<?, ?B/s]"
      ]
     },
     "metadata": {},
     "output_type": "display_data"
    },
    {
     "data": {
      "text/plain": [
       "'data/interim/heat/era5-heat-monthly.nc'"
      ]
     },
     "execution_count": 11,
     "metadata": {},
     "output_type": "execute_result"
    }
   ],
   "source": [
    "aoi = gpd.read_file(aoi_shp)\n",
    "\n",
    "# Ensure it's in EPSG:4326\n",
    "aoi = aoi.to_crs(\"EPSG:4326\")\n",
    "\n",
    "# Get total bounding box\n",
    "minx, miny, maxx, maxy = aoi.total_bounds\n",
    "\n",
    "# ERA5 API wants: [North, West, South, East]\n",
    "bbox = [maxy, minx, miny, maxx]\n",
    "\n",
    "dataset = \"reanalysis-era5-land-monthly-means\"\n",
    "request = {\n",
    "    \"product_type\": [\"monthly_averaged_reanalysis\"],\n",
    "    \"variable\": [\"2m_temperature\"],\n",
    "    \"year\": [\n",
    "        \"2020\", \"2021\", \"2022\",\n",
    "        \"2023\", \"2024\"\n",
    "    ],\n",
    "    \"month\": [\n",
    "        \"01\", \"02\", \"03\",\n",
    "        \"04\", \"05\", \"06\",\n",
    "        \"07\", \"08\", \"09\",\n",
    "        \"10\", \"11\", \"12\"\n",
    "    ],\n",
    "    \"time\": [\"00:00\"],\n",
    "    \"data_format\": \"netcdf\",\n",
    "    \"download_format\": \"unarchived\",\n",
    "    \"area\": bbox\n",
    "}\n",
    "\n",
    "client = cdsapi.Client()\n",
    "client.retrieve(dataset, request, target= era5_file)"
   ]
  },
  {
   "cell_type": "markdown",
   "id": "1b266ae4-52fb-4487-982e-05031932383c",
   "metadata": {
    "tags": []
   },
   "source": [
    "# Define Paths"
   ]
  },
  {
   "cell_type": "code",
   "execution_count": null,
   "id": "bd73f4c7-18e7-4050-a6c2-9080f14ed59b",
   "metadata": {},
   "outputs": [],
   "source": [
    "ds = xr.open_dataset(era5_file)\n",
    "\n",
    "# Convert Kelvin → Celsius:\n",
    "ds_c = ds - 273.15\n"
   ]
  },
  {
   "cell_type": "markdown",
   "id": "7c29daa6-26a0-44c4-8175-6838ee2d0208",
   "metadata": {
    "tags": []
   },
   "source": [
    "# Define Paths"
   ]
  },
  {
   "cell_type": "markdown",
   "id": "2e53a2da-bde1-44c9-8c91-afbe178dea14",
   "metadata": {
    "tags": []
   },
   "source": [
    "# Define Paths"
   ]
  }
 ],
 "metadata": {
  "kernelspec": {
   "display_name": "climate-hazard",
   "language": "python",
   "name": "climate-hazard"
  },
  "language_info": {
   "codemirror_mode": {
    "name": "ipython",
    "version": 3
   },
   "file_extension": ".py",
   "mimetype": "text/x-python",
   "name": "python",
   "nbconvert_exporter": "python",
   "pygments_lexer": "ipython3",
   "version": "3.11.5"
  }
 },
 "nbformat": 4,
 "nbformat_minor": 5
}
