{
 "cells": [
  {
   "cell_type": "markdown",
   "id": "5b4e464b-d216-4fc9-9209-25ecb420ba05",
   "metadata": {
    "tags": []
   },
   "source": [
    "# Import Libraries"
   ]
  },
  {
   "cell_type": "code",
   "execution_count": 1,
   "id": "36412cdb-a07e-494e-aeb8-300cb0eb3f1c",
   "metadata": {
    "tags": []
   },
   "outputs": [],
   "source": [
    "import os\n",
    "import xarray as xr\n",
    "import rioxarray\n",
    "import geopandas as gpd\n",
    "import rasterio\n",
    "import rasterio.mask\n",
    "import pandas as pd\n",
    "import numpy as np\n",
    "from tqdm import tqdm"
   ]
  },
  {
   "cell_type": "code",
   "execution_count": 2,
   "id": "f0bbc24e-21c9-4ad4-be41-956afca9f775",
   "metadata": {},
   "outputs": [],
   "source": [
    "os.chdir('/Users/sabbirdelowar/projects/climate-hazard')"
   ]
  },
  {
   "cell_type": "markdown",
   "id": "ca4949f2-863c-4876-a652-2c4487887881",
   "metadata": {
    "tags": []
   },
   "source": [
    "# Define Paths"
   ]
  },
  {
   "cell_type": "code",
   "execution_count": 3,
   "id": "835a8bbf-c1f2-48b1-89c2-5f121f242833",
   "metadata": {
    "tags": []
   },
   "outputs": [],
   "source": [
    "input_nc = \"data/interim/era5_precip.nc\"\n",
    "aoi_shp = \"data/aoi/aoi-multipoly.shp\"\n",
    "output_csv = \"results/individual-hazards/rainfall-hazard.csv\"\n",
    "\n",
    "os.makedirs(os.path.dirname(output_csv), exist_ok=True)"
   ]
  },
  {
   "cell_type": "markdown",
   "id": "1f743973-f98e-440d-8759-9e22811ad823",
   "metadata": {
    "tags": []
   },
   "source": [
    "# Load districts shapefile"
   ]
  },
  {
   "cell_type": "code",
   "execution_count": 4,
   "id": "e931672d-ca81-4495-9fc6-7e8111894051",
   "metadata": {
    "tags": []
   },
   "outputs": [],
   "source": [
    "districts = gpd.read_file(aoi_shp)\n",
    "districts = districts.to_crs(\"EPSG:4326\")\n",
    "districts = districts[['name', 'geometry']].copy()\n",
    "districts['heavy_rain_months'] = 0"
   ]
  },
  {
   "cell_type": "markdown",
   "id": "c0399ae9-e6d9-4800-bd51-ef3f0d0403cd",
   "metadata": {
    "tags": []
   },
   "source": [
    "# Extract variable and convert to mm"
   ]
  },
  {
   "cell_type": "code",
   "execution_count": 5,
   "id": "23ab078f-026d-45e9-897c-25e4760e7c1f",
   "metadata": {
    "tags": []
   },
   "outputs": [],
   "source": [
    "ds = xr.open_dataset(input_nc)\n",
    "rain_m = ds['tp']\n",
    "rain_mm = rain_m * 1000  # m to mm"
   ]
  },
  {
   "cell_type": "markdown",
   "id": "0881c9b1-52ff-4d33-84cd-83bcf8d26867",
   "metadata": {
    "tags": []
   },
   "source": [
    "#  Loop once over all months and districts"
   ]
  },
  {
   "cell_type": "code",
   "execution_count": 6,
   "id": "fbb6e9bd-797f-439a-b1f4-b0cbbb48e0ca",
   "metadata": {
    "tags": []
   },
   "outputs": [
    {
     "name": "stdout",
     "output_type": "stream",
     "text": [
      "✅ Scanning monthly rasters and computing district means...\n"
     ]
    },
    {
     "name": "stderr",
     "output_type": "stream",
     "text": [
      "Processing months: 100%|█| 60/60 [\n"
     ]
    }
   ],
   "source": [
    "all_records = []\n",
    "\n",
    "time_dim = rain_mm['valid_time']\n",
    "\n",
    "print(\"✅ Scanning monthly rasters and computing district means...\")\n",
    "for t in tqdm(time_dim.values, desc=\"Processing months\"):\n",
    "    month_data = rain_mm.sel(valid_time=t)\n",
    "    month_tif = \"data/interim/temp_month.tif\"\n",
    "    month_data.rio.to_raster(month_tif)\n",
    "\n",
    "    with rasterio.open(month_tif) as src:\n",
    "        for idx, row in districts.iterrows():\n",
    "            geom = [row.geometry]\n",
    "            try:\n",
    "                out_image, _ = rasterio.mask.mask(src, geom, crop=True)\n",
    "                data = out_image[0]\n",
    "                data = data[data > -100]\n",
    "\n",
    "                if data.size > 0:\n",
    "                    mean_val = data.mean()\n",
    "                    all_records.append({\n",
    "                        'month': pd.to_datetime(t),\n",
    "                        'district': row['name'],\n",
    "                        'mean_rain': mean_val\n",
    "                    })\n",
    "            except ValueError:\n",
    "                continue\n",
    "\n",
    "    os.remove(month_tif)"
   ]
  },
  {
   "cell_type": "markdown",
   "id": "f32bf641-c8af-4e6b-b98a-cba270df2476",
   "metadata": {
    "tags": []
   },
   "source": [
    "# Compute 75th percentile threshold"
   ]
  },
  {
   "cell_type": "code",
   "execution_count": 7,
   "id": "cbdbad62-4e4e-41c9-ab0c-851ea55ffff1",
   "metadata": {
    "tags": []
   },
   "outputs": [
    {
     "name": "stdout",
     "output_type": "stream",
     "text": [
      "✅ Data-derived rainfall threshold (75th percentile): 2.23 mm\n"
     ]
    }
   ],
   "source": [
    "df = pd.DataFrame(all_records)\n",
    "\n",
    "RAIN_THRESHOLD_MM = np.percentile(df['mean_rain'], 75)\n",
    "print(f\"✅ Data-derived rainfall threshold (75th percentile): {RAIN_THRESHOLD_MM:.2f} mm\")"
   ]
  },
  {
   "cell_type": "markdown",
   "id": "8baf8a57-73a2-41b2-8dcb-60db9d9da485",
   "metadata": {
    "tags": []
   },
   "source": [
    "# Count heavy-rainfall months per district"
   ]
  },
  {
   "cell_type": "code",
   "execution_count": 8,
   "id": "2728a4fd-74b5-46d1-bd4d-78dbc5775847",
   "metadata": {
    "tags": []
   },
   "outputs": [],
   "source": [
    "counts = df[df['mean_rain'] >= RAIN_THRESHOLD_MM].groupby('district').size()\n",
    "counts = counts.reindex(districts['name']).fillna(0).astype(int)\n",
    "\n",
    "districts['heavy_rain_months'] = counts.values"
   ]
  },
  {
   "cell_type": "markdown",
   "id": "8e3bb5c1-4dd8-418e-8b76-cf6d242637a3",
   "metadata": {
    "tags": []
   },
   "source": [
    "# Rescale to 0–1 hazard"
   ]
  },
  {
   "cell_type": "code",
   "execution_count": 9,
   "id": "ed1143e6-4ac5-4076-8761-b0bce501576a",
   "metadata": {
    "tags": []
   },
   "outputs": [],
   "source": [
    "min_val = districts['heavy_rain_months'].min()\n",
    "max_val = districts['heavy_rain_months'].max()\n",
    "\n",
    "districts['rainfall_hazard'] = (\n",
    "    (districts['heavy_rain_months'] - min_val) / (max_val - min_val)\n",
    ").clip(0, 1)\n",
    "\n",
    "districts[['name', 'heavy_rain_months', 'rainfall_hazard']].rename(\n",
    "    columns={'name':'district'}\n",
    ").to_csv(output_csv, index=False)"
   ]
  }
 ],
 "metadata": {
  "kernelspec": {
   "display_name": "climate-hazard",
   "language": "python",
   "name": "climate-hazard"
  },
  "language_info": {
   "codemirror_mode": {
    "name": "ipython",
    "version": 3
   },
   "file_extension": ".py",
   "mimetype": "text/x-python",
   "name": "python",
   "nbconvert_exporter": "python",
   "pygments_lexer": "ipython3",
   "version": "3.11.5"
  }
 },
 "nbformat": 4,
 "nbformat_minor": 5
}
