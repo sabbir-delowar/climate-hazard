{
 "cells": [
  {
   "cell_type": "markdown",
   "id": "1f84f36f-67de-4a27-8750-04d3d992ee8b",
   "metadata": {
    "tags": []
   },
   "source": [
    "# Import Libraries"
   ]
  },
  {
   "cell_type": "code",
   "execution_count": 1,
   "id": "eebd2327-9183-4f1a-9861-8e662babc091",
   "metadata": {
    "tags": []
   },
   "outputs": [],
   "source": [
    "import os\n",
    "import geopandas as gpd\n",
    "import pandas as pd\n",
    "from rasterstats import zonal_stats"
   ]
  },
  {
   "cell_type": "code",
   "execution_count": 2,
   "id": "21ef6f5a-66ab-49c0-ab5e-e3ca6933ce86",
   "metadata": {},
   "outputs": [],
   "source": [
    "os.chdir('/Users/sabbirdelowar/projects/climate-hazard')"
   ]
  },
  {
   "cell_type": "markdown",
   "id": "2b43e991-ce38-495f-a828-b3c07ab4bfeb",
   "metadata": {
    "tags": []
   },
   "source": [
    "# Define Paths"
   ]
  },
  {
   "cell_type": "code",
   "execution_count": 3,
   "id": "fdc925b1-3a71-4965-a8ef-95037f117a2b",
   "metadata": {},
   "outputs": [],
   "source": [
    "rainfall_tif = \"data/interim/mean_annual_rainfall.tif\"\n",
    "districts_shp = \"data/aoi/aoi-multipoly.shp\"\n",
    "output_dir = \"results/individual-hazards\"\n",
    "os.makedirs(output_dir, exist_ok=True)\n",
    "output_csv = os.path.join(output_dir, \"rainfall_hazard.csv\")"
   ]
  },
  {
   "cell_type": "markdown",
   "id": "aa88eb7d-b1f4-4ef4-bd1f-62885fedd0ad",
   "metadata": {},
   "source": [
    "# Perform Zonal Statistics"
   ]
  },
  {
   "cell_type": "code",
   "execution_count": 4,
   "id": "e7a1d0e0-4eac-40c4-b4c4-46da808a35da",
   "metadata": {
    "tags": []
   },
   "outputs": [
    {
     "name": "stderr",
     "output_type": "stream",
     "text": [
      "/Users/sabbirdelowar/anaconda3/lib/python3.11/site-packages/rasterstats/io.py:335: NodataWarning: Setting nodata to -999; specify nodata explicitly\n",
      "  warnings.warn(\n"
     ]
    }
   ],
   "source": [
    "districts = gpd.read_file(districts_shp)\n",
    "districts = districts.to_crs(\"EPSG:4326\")\n",
    "pstats = zonal_stats(\n",
    "    vectors=districts,\n",
    "    raster=rainfall_tif,\n",
    "    stats=['mean'],\n",
    "    geojson_out=True\n",
    ")"
   ]
  },
  {
   "cell_type": "markdown",
   "id": "e9f00124-5092-4253-96d8-6fb590e66d6f",
   "metadata": {},
   "source": [
    "# Build DataFrame"
   ]
  },
  {
   "cell_type": "code",
   "execution_count": 9,
   "id": "d2697201-9db7-426d-8e47-c12cce408567",
   "metadata": {
    "tags": []
   },
   "outputs": [],
   "source": [
    "district_names = [feature['properties']['name'] for feature in pstats]\n",
    "mean_rainfall = [feature['properties']['mean'] for feature in pstats]\n",
    "\n",
    "rainfall_df = pd.DataFrame({\n",
    "    \"district\": district_names,\n",
    "    \"mean_annual_rainfall_mm\": mean_rainfall\n",
    "})"
   ]
  },
  {
   "cell_type": "markdown",
   "id": "7cd73e1b-55cc-4cc4-81d4-ed460ef780c8",
   "metadata": {},
   "source": [
    "# Scale to 0–1"
   ]
  },
  {
   "cell_type": "code",
   "execution_count": 10,
   "id": "bb1ca137-7ef9-4d91-9bea-2294a27bd3f2",
   "metadata": {
    "tags": []
   },
   "outputs": [],
   "source": [
    "rainfall_df['rainfall_hazard_score'] = (\n",
    "    (rainfall_df['mean_annual_rainfall_mm'] - 1500) / (2500 - 1500)\n",
    ").clip(0, 1)\n",
    "\n",
    "rainfall_df.to_csv(output_csv, index=False)"
   ]
  }
 ],
 "metadata": {
  "kernelspec": {
   "display_name": "climate-hazard",
   "language": "python",
   "name": "climate-hazard"
  },
  "language_info": {
   "codemirror_mode": {
    "name": "ipython",
    "version": 3
   },
   "file_extension": ".py",
   "mimetype": "text/x-python",
   "name": "python",
   "nbconvert_exporter": "python",
   "pygments_lexer": "ipython3",
   "version": "3.11.5"
  }
 },
 "nbformat": 4,
 "nbformat_minor": 5
}
