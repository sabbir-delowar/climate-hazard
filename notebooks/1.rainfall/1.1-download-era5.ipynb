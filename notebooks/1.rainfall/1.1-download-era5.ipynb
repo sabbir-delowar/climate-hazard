{
 "cells": [
  {
   "cell_type": "markdown",
   "id": "e43d0076-997f-4fe2-b64d-a0f124626bf1",
   "metadata": {},
   "source": [
    "# Import Libraries"
   ]
  },
  {
   "cell_type": "code",
   "execution_count": null,
   "id": "f2d852fc-a54b-4a5c-87b1-4575ec2a4bfa",
   "metadata": {
    "tags": []
   },
   "outputs": [],
   "source": [
    "import os\n",
    "import geopandas as gpd\n",
    "import cdsapi"
   ]
  },
  {
   "cell_type": "code",
   "execution_count": null,
   "id": "52b626a7-8b4b-4877-a813-0b0923ddb035",
   "metadata": {
    "tags": []
   },
   "outputs": [],
   "source": [
    "os.chdir('/Users/sabbirdelowar/Library/CloudStorage/GoogleDrive-sabbir.d.arnob@gmail.com/My Drive/My codes/bd-climate-risk/')"
   ]
  },
  {
   "cell_type": "markdown",
   "id": "ba713152-729b-4b56-a355-5393cb547986",
   "metadata": {},
   "source": [
    "# Define Paths"
   ]
  },
  {
   "cell_type": "code",
   "execution_count": null,
   "id": "5359cf28-a89b-40a7-af33-b02ea7bb7033",
   "metadata": {},
   "outputs": [],
   "source": [
    "# AOI shapefile path\n",
    "aoi_path = \"data/aoi/aoi-multipoly.shp\"\n",
    "\n",
    "# Output path\n",
    "output_dir = \"data/interim\"\n",
    "os.makedirs(output_dir, exist_ok=True)\n",
    "output_nc = os.path.join(output_dir, \"era5_precip.nc\")"
   ]
  },
  {
   "cell_type": "markdown",
   "id": "363f8e8a-6301-49e2-b7b2-3ccacfec6c18",
   "metadata": {},
   "source": [
    "# Read AOI Shapefile and Calculate Bounding Box"
   ]
  },
  {
   "cell_type": "code",
   "execution_count": null,
   "id": "4339b107-60ac-4064-a768-a5eea43d4834",
   "metadata": {},
   "outputs": [],
   "source": [
    "# Load AOI\n",
    "aoi_gdf = gpd.read_file(aoi_path)\n",
    "print(aoi_gdf)\n",
    "\n",
    "# Ensure it's in EPSG:4326\n",
    "aoi_gdf = aoi_gdf.to_crs(\"EPSG:4326\")\n",
    "\n",
    "# Get total bounding box\n",
    "minx, miny, maxx, maxy = aoi_gdf.total_bounds\n",
    "\n",
    "# ERA5 API wants: [North, West, South, East]\n",
    "bbox = [maxy, minx, miny, maxx]"
   ]
  },
  {
   "cell_type": "markdown",
   "id": "576448be-3153-4f45-9069-8a99e60acc7d",
   "metadata": {
    "tags": []
   },
   "source": [
    "# Define Years and Months"
   ]
  },
  {
   "cell_type": "code",
   "execution_count": null,
   "id": "5a6d7440-349e-4a00-86fc-30d0078b9427",
   "metadata": {
    "tags": []
   },
   "outputs": [],
   "source": [
    "years = [str(y) for y in range(2020, 2025)]\n",
    "months = [f\"{m:02d}\" for m in range(1, 13)]"
   ]
  },
  {
   "cell_type": "markdown",
   "id": "8629a437-3867-4f7a-a407-a98a53f3d1e8",
   "metadata": {},
   "source": [
    "# Download ERA5-Land Monthly Means"
   ]
  },
  {
   "cell_type": "code",
   "execution_count": null,
   "id": "b22109c7-f106-4e6b-9030-ace21fd133d8",
   "metadata": {
    "tags": []
   },
   "outputs": [],
   "source": [
    "dataset = \"reanalysis-era5-single-levels-monthly-means\"\n",
    "request = {\n",
    "    \"product_type\": [\"monthly_averaged_reanalysis\"],\n",
    "    \"variable\": [\"total_precipitation\"],\n",
    "    \"year\": years,\n",
    "    \"month\": months,\n",
    "    \"time\": [\"00:00\"],\n",
    "    \"data_format\": \"netcdf\",\n",
    "    \"area\": bbox,\n",
    "    \"download_format\": \"unarchived\"\n",
    "}\n",
    "\n",
    "client = cdsapi.Client()\n",
    "client.retrieve(dataset, request, target= output_nc)"
   ]
  }
 ],
 "metadata": {
  "kernelspec": {
   "display_name": "bd-climate-risk",
   "language": "python",
   "name": "bd-climate-risk"
  },
  "language_info": {
   "codemirror_mode": {
    "name": "ipython",
    "version": 3
   },
   "file_extension": ".py",
   "mimetype": "text/x-python",
   "name": "python",
   "nbconvert_exporter": "python",
   "pygments_lexer": "ipython3",
   "version": "3.13.2"
  }
 },
 "nbformat": 4,
 "nbformat_minor": 5
}
