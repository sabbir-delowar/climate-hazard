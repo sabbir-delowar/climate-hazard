{
 "cells": [
  {
   "cell_type": "markdown",
   "id": "cccde57e-6e3c-4dc9-88e7-26a78023b938",
   "metadata": {
    "tags": []
   },
   "source": [
    "# Import Libraries"
   ]
  },
  {
   "cell_type": "code",
   "execution_count": 1,
   "id": "a072923a-74dd-4610-9073-2128f182b52d",
   "metadata": {
    "tags": []
   },
   "outputs": [],
   "source": [
    "import os\n",
    "import geopandas as gpd\n",
    "import requests\n",
    "import zipfile\n",
    "from tqdm import tqdm"
   ]
  },
  {
   "cell_type": "code",
   "execution_count": 2,
   "id": "09da947c-e03e-483e-8063-de846b5d4e4e",
   "metadata": {
    "tags": []
   },
   "outputs": [],
   "source": [
    "os.chdir('/Users/sabbirdelowar/projects/climate-hazard/')"
   ]
  },
  {
   "cell_type": "markdown",
   "id": "de795f40-c7d1-4dbe-b326-a511406b4b08",
   "metadata": {
    "tags": []
   },
   "source": [
    "# Define Paths"
   ]
  },
  {
   "cell_type": "code",
   "execution_count": 3,
   "id": "63e96b98-70ef-4304-915d-da65357c5898",
   "metadata": {
    "tags": []
   },
   "outputs": [],
   "source": [
    "# AOI and tile grid paths\n",
    "aoi_path = \"data/aoi/aoi-multipoly.shp\"\n",
    "tile_grid_path = \"data/FABDEM_v1-2_tiles.geojson\"\n",
    "\n",
    "# Folder to save downloaded tiles\n",
    "download_dir = \"data/interim/fabdem\"\n",
    "os.makedirs(download_dir, exist_ok=True)"
   ]
  },
  {
   "cell_type": "markdown",
   "id": "bb8e7088-dee3-4b58-907e-ae7d6b89bc46",
   "metadata": {
    "tags": []
   },
   "source": [
    "# Load AOI Shapefile & Load FABDEM Tile Grid"
   ]
  },
  {
   "cell_type": "code",
   "execution_count": 4,
   "id": "f234dff9-8e71-486e-9703-d9918b723cbf",
   "metadata": {
    "tags": []
   },
   "outputs": [],
   "source": [
    "aoi = gpd.read_file(aoi_path)\n",
    "tiles = gpd.read_file(tile_grid_path)\n",
    "\n",
    "if tiles.crs != aoi.crs:\n",
    "    aoi = aoi.to_crs(tiles.crs)"
   ]
  },
  {
   "cell_type": "markdown",
   "id": "1c4932fe-68ba-4a5f-8bcc-9d22f1e20d2a",
   "metadata": {
    "tags": []
   },
   "source": [
    "# Extract Fabdem URLs"
   ]
  },
  {
   "cell_type": "code",
   "execution_count": 5,
   "id": "b1b73646-3bcb-4bd2-ba04-c28abfa4f5af",
   "metadata": {
    "tags": []
   },
   "outputs": [],
   "source": [
    "# Perform spatial intersection\n",
    "intersection = gpd.overlay(tiles, aoi, how='intersection')\n",
    "\n",
    "base_url = \"https://data.bris.ac.uk/datasets/s5hqmjcdj8yo2ibzi9b4ew3sn/\"\n",
    "\n",
    "# FABDEM tiles store full file_name in properties\n",
    "file_names = intersection['zipfile_name'].unique().tolist()\n",
    "urls = [base_url + fname for fname in file_names]"
   ]
  },
  {
   "cell_type": "markdown",
   "id": "f69c9f41-c643-4adc-9484-17ed0b72cb09",
   "metadata": {
    "tags": []
   },
   "source": [
    "# Download Function"
   ]
  },
  {
   "cell_type": "code",
   "execution_count": 6,
   "id": "b2be2e0c-a1f8-4c9b-b073-69780608c210",
   "metadata": {
    "tags": []
   },
   "outputs": [],
   "source": [
    "def download_file(url, out_folder):\n",
    "    local_filename = os.path.join(out_folder, url.split(\"/\")[-1])\n",
    "    if os.path.exists(local_filename):\n",
    "        print(f\"✅ Already exists: {local_filename}\")\n",
    "        return\n",
    "    try:\n",
    "        response = requests.get(url, stream=True)\n",
    "        response.raise_for_status()\n",
    "        with open(local_filename, 'wb') as f:\n",
    "            for chunk in response.iter_content(chunk_size=8192):\n",
    "                if chunk:\n",
    "                    f.write(chunk)\n",
    "        print(f\"✅ Downloaded: {local_filename}\")\n",
    "    except Exception as e:\n",
    "        print(f\"❌ Failed to download {url}: {e}\")"
   ]
  },
  {
   "cell_type": "markdown",
   "id": "2e68642a-65a0-4baf-98d3-7bc821df1e9d",
   "metadata": {
    "tags": []
   },
   "source": [
    "# Bulk Download"
   ]
  },
  {
   "cell_type": "code",
   "execution_count": 7,
   "id": "2d4f61af-3cba-418f-9dfc-e0b55909d9a0",
   "metadata": {
    "tags": []
   },
   "outputs": [
    {
     "name": "stdout",
     "output_type": "stream",
     "text": [
      "✅ Downloading 2 tiles to data/interim/fabdem\n"
     ]
    },
    {
     "name": "stderr",
     "output_type": "stream",
     "text": [
      " 50%|██████▌      | 1/2 [06:11<06:11, 371.70s/it]"
     ]
    },
    {
     "name": "stdout",
     "output_type": "stream",
     "text": [
      "✅ Downloaded: data/interim/fabdem/N20E080-N30E090_FABDEM_V1-2.zip\n"
     ]
    },
    {
     "name": "stderr",
     "output_type": "stream",
     "text": [
      "100%|█████████████| 2/2 [14:45<00:00, 442.70s/it]"
     ]
    },
    {
     "name": "stdout",
     "output_type": "stream",
     "text": [
      "✅ Downloaded: data/interim/fabdem/N20E090-N30E100_FABDEM_V1-2.zip\n",
      "✅ All downloads attempted!\n"
     ]
    },
    {
     "name": "stderr",
     "output_type": "stream",
     "text": [
      "\n"
     ]
    }
   ],
   "source": [
    "print(f\"✅ Downloading {len(urls)} tiles to {download_dir}\")\n",
    "\n",
    "for url in tqdm(urls):\n",
    "    download_file(url, download_dir)\n",
    "\n",
    "print(\"✅ All downloads attempted!\")"
   ]
  },
  {
   "cell_type": "markdown",
   "id": "19becce5-d015-42e3-9705-0bbf810d7201",
   "metadata": {
    "tags": []
   },
   "source": [
    "# Extract Tiles"
   ]
  },
  {
   "cell_type": "code",
   "execution_count": 8,
   "id": "e16e483b-ee2b-43a3-b63f-a057f01e6ea4",
   "metadata": {
    "tags": []
   },
   "outputs": [
    {
     "name": "stdout",
     "output_type": "stream",
     "text": [
      "✅ Found 2 zip files to extract.\n",
      "- N20E090-N30E100_FABDEM_V1-2.zip\n",
      "- N20E080-N30E090_FABDEM_V1-2.zip\n"
     ]
    },
    {
     "name": "stderr",
     "output_type": "stream",
     "text": [
      "Unzipping all tiles: 100%|█| 2/2 [00:01<00:00,  1\n"
     ]
    }
   ],
   "source": [
    "zip_files = [os.path.join(download_dir, f) for f in os.listdir(download_dir) if f.endswith(\".zip\")]\n",
    "print(f\"✅ Found {len(zip_files)} zip files to extract.\")\n",
    "for z in zip_files:\n",
    "    print(\"-\", os.path.basename(z))\n",
    "\n",
    "for zf in tqdm(zip_files, desc=\"Unzipping all tiles\"):\n",
    "    with zipfile.ZipFile(zf, 'r') as archive:\n",
    "        for member in archive.namelist():\n",
    "            if member.lower().endswith('.tif'):\n",
    "                # Flatten folder structure\n",
    "                out_filename = os.path.join(download_dir, os.path.basename(member))\n",
    "                with archive.open(member) as source, open(out_filename, 'wb') as target:\n",
    "                    target.write(source.read())"
   ]
  }
 ],
 "metadata": {
  "kernelspec": {
   "display_name": "climate-hazard",
   "language": "python",
   "name": "climate-hazard"
  },
  "language_info": {
   "codemirror_mode": {
    "name": "ipython",
    "version": 3
   },
   "file_extension": ".py",
   "mimetype": "text/x-python",
   "name": "python",
   "nbconvert_exporter": "python",
   "pygments_lexer": "ipython3",
   "version": "3.11.5"
  }
 },
 "nbformat": 4,
 "nbformat_minor": 5
}
