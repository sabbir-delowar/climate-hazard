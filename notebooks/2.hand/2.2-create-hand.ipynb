{
 "cells": [
  {
   "cell_type": "markdown",
   "id": "134cda36-4ca5-43d7-b848-6b1ba03ce904",
   "metadata": {
    "tags": []
   },
   "source": [
    "# Import Libraries"
   ]
  },
  {
   "cell_type": "code",
   "execution_count": 2,
   "id": "ae77a793-e7e2-4e44-8de3-cbaf7382cd2f",
   "metadata": {
    "tags": []
   },
   "outputs": [],
   "source": [
    "import shutil\n",
    "import os\n",
    "import glob\n",
    "import geopandas as gpd\n",
    "import rasterio\n",
    "from rasterio.merge import merge\n",
    "from rasterio.mask import mask\n",
    "from rasterio.warp import calculate_default_transform, reproject, Resampling\n",
    "import numpy as np\n",
    "import matplotlib.pyplot as plt\n",
    "from tqdm import tqdm"
   ]
  },
  {
   "cell_type": "code",
   "execution_count": 3,
   "id": "9b655ab8-3ce0-47a6-be1c-7cc75d916896",
   "metadata": {},
   "outputs": [],
   "source": [
    "os.chdir('/Users/sabbirdelowar/projects/climate-hazard')"
   ]
  },
  {
   "cell_type": "markdown",
   "id": "d79ed0bb-e2a4-4baf-bb5a-4c641ab38c7a",
   "metadata": {
    "tags": []
   },
   "source": [
    "# Define Paths"
   ]
  },
  {
   "cell_type": "code",
   "execution_count": 4,
   "id": "b307bd23-7a54-4ed9-88fd-ee7ca9294c90",
   "metadata": {
    "tags": []
   },
   "outputs": [],
   "source": [
    "aoi_path = \"data/aoi/aoi-multipoly.shp\"\n",
    "tiles_folder = \"data/interim/fabdem\"\n",
    "output_dir = \"data/interim/hand\"\n",
    "os.makedirs(output_dir, exist_ok=True)\n",
    "output_mosaic = os.path.join(output_dir, \"hand-dem.tif\")"
   ]
  },
  {
   "cell_type": "markdown",
   "id": "2b5bd30e-d859-4f7b-ac5b-1839b675fcb1",
   "metadata": {
    "tags": []
   },
   "source": [
    "# Load All Files"
   ]
  },
  {
   "cell_type": "code",
   "execution_count": 5,
   "id": "3470063c-daa1-43fd-b9f1-7af6e74df2af",
   "metadata": {
    "tags": []
   },
   "outputs": [],
   "source": [
    "aoi = gpd.read_file(aoi_path)\n",
    "aoi = aoi.to_crs(\"EPSG:4326\")\n",
    "\n",
    "tif_files = glob.glob(os.path.join(tiles_folder, \"*.tif\"))"
   ]
  },
  {
   "cell_type": "markdown",
   "id": "3d8e615a-3ab1-4590-892d-eb1173c9c251",
   "metadata": {
    "tags": []
   },
   "source": [
    "# Mosaic Tiles"
   ]
  },
  {
   "cell_type": "code",
   "execution_count": 6,
   "id": "5a5bb1b5-5ebb-4d29-8152-8166c814b663",
   "metadata": {
    "tags": []
   },
   "outputs": [
    {
     "name": "stdout",
     "output_type": "stream",
     "text": [
      "✅ Mosaicking tiles. This may take a few minutes...\n",
      "✅ Mosaic complete!\n"
     ]
    }
   ],
   "source": [
    "print(\"✅ Mosaicking tiles. This may take a few minutes...\")\n",
    "\n",
    "src_files_to_mosaic = [rasterio.open(fp) for fp in tif_files]\n",
    "mosaic, out_transform = merge(src_files_to_mosaic)\n",
    "\n",
    "print(\"✅ Mosaic complete!\")"
   ]
  },
  {
   "cell_type": "markdown",
   "id": "9927cc72-d93b-45a9-90cc-b37805e531e3",
   "metadata": {
    "tags": []
   },
   "source": [
    "# Clip Mosaic to AOI"
   ]
  },
  {
   "cell_type": "code",
   "execution_count": 7,
   "id": "26ed736a-c55f-4977-9325-7b53e55ee4b4",
   "metadata": {
    "tags": []
   },
   "outputs": [],
   "source": [
    "aoi_geom = [feature[\"geometry\"] for feature in aoi.__geo_interface__[\"features\"]]\n",
    "\n",
    "meta = src_files_to_mosaic[0].meta.copy()\n",
    "meta.update({\n",
    "    \"driver\": \"GTiff\",\n",
    "    \"height\": mosaic.shape[1],\n",
    "    \"width\": mosaic.shape[2],\n",
    "    \"transform\": out_transform,\n",
    "    \"crs\": \"EPSG:4326\"\n",
    "})\n",
    "\n",
    "with rasterio.io.MemoryFile() as memfile:\n",
    "    with memfile.open(**meta) as dataset:\n",
    "        dataset.write(mosaic)\n",
    "        clipped_image, clipped_transform = mask(\n",
    "            dataset=dataset,\n",
    "            shapes=aoi_geom,\n",
    "            crop=True\n",
    "        )\n",
    "\n",
    "clipped_meta = meta.copy()\n",
    "clipped_meta.update({\n",
    "    \"height\": clipped_image.shape[1],\n",
    "    \"width\": clipped_image.shape[2],\n",
    "    \"transform\": clipped_transform,\n",
    "    \"compress\": None\n",
    "})\n",
    "\n",
    "# ✅ Step 2: Save clipped WGS84 temporarily\n",
    "temp_clipped_path = output_mosaic.replace(\".tif\", \"_clipped_wgs84.tif\")\n",
    "with rasterio.open(temp_clipped_path, \"w\", **clipped_meta) as dest:\n",
    "    dest.write(clipped_image)"
   ]
  },
  {
   "cell_type": "markdown",
   "id": "584875a7-ea88-4748-b931-e6c4056defd2",
   "metadata": {
    "tags": []
   },
   "source": [
    "# Convert to UTM"
   ]
  },
  {
   "cell_type": "code",
   "execution_count": 8,
   "id": "91528cbe-d47c-4f01-bdf3-5d95adfdb935",
   "metadata": {
    "tags": []
   },
   "outputs": [
    {
     "name": "stdout",
     "output_type": "stream",
     "text": [
      "⭐ Enter the target EPSG code for reprojection.\n",
      "Example options for Bangladesh:\n",
      "- EPSG:32646 = UTM Zone 46N (Western Bangladesh)\n",
      "- EPSG:32647 = UTM Zone 47N (Eastern Bangladesh)\n"
     ]
    },
    {
     "name": "stdin",
     "output_type": "stream",
     "text": [
      "Enter EPSG code (default 32646):  \n"
     ]
    },
    {
     "name": "stdout",
     "output_type": "stream",
     "text": [
      "✅ Using EPSG:32646 for reprojection.\n"
     ]
    }
   ],
   "source": [
    "# ✅ Ask user for target CRS\n",
    "print(\"⭐ Enter the target EPSG code for reprojection.\")\n",
    "print(\"Example options for Bangladesh:\")\n",
    "print(\"- EPSG:32646 = UTM Zone 46N (Western Bangladesh)\")\n",
    "print(\"- EPSG:32647 = UTM Zone 47N (Eastern Bangladesh)\")\n",
    "\n",
    "# User input with a default fallback\n",
    "user_epsg = input(\"Enter EPSG code (default 32646): \").strip()\n",
    "if user_epsg == \"\":\n",
    "    user_epsg = \"32646\"\n",
    "\n",
    "dst_crs = f\"EPSG:{user_epsg}\"\n",
    "print(f\"✅ Using {dst_crs} for reprojection.\")"
   ]
  },
  {
   "cell_type": "code",
   "execution_count": 9,
   "id": "c6afc645-63e3-4abf-ac57-6729f4373f76",
   "metadata": {
    "tags": []
   },
   "outputs": [],
   "source": [
    "with rasterio.open(temp_clipped_path) as src:\n",
    "    # Calculate the new transform, width, height for reprojection\n",
    "    transform, width, height = calculate_default_transform(\n",
    "        src.crs, dst_crs, src.width, src.height, *src.bounds\n",
    "    )\n",
    "\n",
    "    # Create new profile for output GeoTIFF\n",
    "    kwargs = {\n",
    "        'driver': 'GTiff',\n",
    "        'dtype': 'float32',\n",
    "        'count': 1,\n",
    "        'crs': dst_crs,\n",
    "        'transform': transform,\n",
    "        'width': width,\n",
    "        'height': height,\n",
    "        'nodata': -32768       # Common elevation NoData value\n",
    "    }\n",
    "\n",
    "    for key, val in kwargs.items():\n",
    "\n",
    "        # Perform reprojection and save\n",
    "        with rasterio.open(output_mosaic, \"w\", **kwargs) as dst:\n",
    "            for i in range(1, src.count + 1):\n",
    "                reproject(\n",
    "                    source=rasterio.band(src, i),\n",
    "                    destination=rasterio.band(dst, i),\n",
    "                    src_transform=src.transform,\n",
    "                    src_crs=src.crs,\n",
    "                    dst_transform=transform,\n",
    "                    dst_crs=dst_crs,\n",
    "                    resampling=Resampling.bilinear\n",
    "                )"
   ]
  },
  {
   "cell_type": "markdown",
   "id": "61e8c03d-a394-43bd-bac3-39c27156e866",
   "metadata": {},
   "source": [
    "# Delete the fabdem folder"
   ]
  },
  {
   "cell_type": "code",
   "execution_count": null,
   "id": "2fb3aea2-4cd9-4719-a54c-2bb753019be0",
   "metadata": {
    "tags": []
   },
   "outputs": [],
   "source": [
    "target_folder = \"data/fabdem\"\n",
    "\n",
    "if os.path.exists(target_folder):\n",
    "    confirm = input(f\"⚠️ Are you sure you want to delete the entire folder {target_folder}? Type YES to confirm: \")\n",
    "    if confirm == \"YES\":\n",
    "        shutil.rmtree(target_folder)\n",
    "        print(f\"✅ Folder {target_folder} deleted.\")\n",
    "    else:\n",
    "        print(\"❌ Deletion cancelled.\")\n",
    "else:\n",
    "    print(f\"❌ Folder {target_folder} does not exist.\")\n"
   ]
  }
 ],
 "metadata": {
  "kernelspec": {
   "display_name": "climate-hazard",
   "language": "python",
   "name": "climate-hazard"
  },
  "language_info": {
   "codemirror_mode": {
    "name": "ipython",
    "version": 3
   },
   "file_extension": ".py",
   "mimetype": "text/x-python",
   "name": "python",
   "nbconvert_exporter": "python",
   "pygments_lexer": "ipython3",
   "version": "3.11.5"
  }
 },
 "nbformat": 4,
 "nbformat_minor": 5
}
