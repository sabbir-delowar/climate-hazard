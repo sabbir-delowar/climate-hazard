{
 "cells": [
  {
   "cell_type": "markdown",
   "id": "9dab9931-7f43-4a32-92b9-7ccc82b5ee45",
   "metadata": {
    "tags": []
   },
   "source": [
    "# Import Libraries"
   ]
  },
  {
   "cell_type": "code",
   "execution_count": 5,
   "id": "6b327b92-bacd-4b6c-8413-7453abc347de",
   "metadata": {
    "tags": []
   },
   "outputs": [],
   "source": [
    "import os\n",
    "from whitebox.whitebox_tools import WhiteboxTools\n",
    "import rasterio\n",
    "import matplotlib.pyplot as plt"
   ]
  },
  {
   "cell_type": "code",
   "execution_count": 6,
   "id": "cf5f0d48-f1e0-4a45-9f4a-4c8063e63365",
   "metadata": {
    "tags": []
   },
   "outputs": [],
   "source": [
    "wd = '/Users/sabbirdelowar/projects/climate-hazard/data/interim/hand'"
   ]
  },
  {
   "cell_type": "markdown",
   "id": "a01888df-8c51-4dae-98b5-229c40a35ebf",
   "metadata": {
    "tags": []
   },
   "source": [
    "# Define Paths"
   ]
  },
  {
   "cell_type": "code",
   "execution_count": 8,
   "id": "e81495f1-17cd-4d5a-bf9c-7bfb8d336e23",
   "metadata": {
    "tags": []
   },
   "outputs": [],
   "source": [
    "input_dem = \"hand-dem.tif\"\n",
    "output_dir = wd\n",
    "os.makedirs(output_dir, exist_ok=True)\n",
    "\n",
    "breached_dem = \"hand_breached.tif\"\n",
    "flow_dir = \"hand_flowdir.tif\"\n",
    "flow_acc = \"hand_flowacc.tif\"\n",
    "streams = \"hand_streams.tif\"\n",
    "hand_output = \"hand.tif\""
   ]
  },
  {
   "cell_type": "markdown",
   "id": "7271cdea-4d8c-498b-afaa-64e62a978a5a",
   "metadata": {
    "tags": []
   },
   "source": [
    "# Initialise WhiteboxTools"
   ]
  },
  {
   "cell_type": "code",
   "execution_count": 11,
   "id": "d16c4e2a-abe6-47cc-80d7-431b56a8f7dd",
   "metadata": {
    "tags": []
   },
   "outputs": [],
   "source": [
    "wbt = WhiteboxTools()\n",
    "wbt.verbose = False"
   ]
  },
  {
   "cell_type": "markdown",
   "id": "ba8946f0-dee5-48c1-b5b3-8e0a1d0c851a",
   "metadata": {
    "tags": []
   },
   "source": [
    "# Breach Depressions"
   ]
  },
  {
   "cell_type": "code",
   "execution_count": 12,
   "id": "9e5466a8-debc-4e0e-86f5-e7780b658b14",
   "metadata": {
    "tags": []
   },
   "outputs": [
    {
     "name": "stdout",
     "output_type": "stream",
     "text": [
      "✅ Breaching depressions in DEM...\n"
     ]
    },
    {
     "data": {
      "text/plain": [
       "0"
      ]
     },
     "execution_count": 12,
     "metadata": {},
     "output_type": "execute_result"
    }
   ],
   "source": [
    "print(\"✅ Breaching depressions in DEM...\")\n",
    "wbt.set_working_dir(wd)\n",
    "wbt.breach_depressions(input_dem, breached_dem)"
   ]
  },
  {
   "cell_type": "markdown",
   "id": "881ce6cc-f07a-4f12-b4f7-6e0eb2b4c00c",
   "metadata": {
    "tags": []
   },
   "source": [
    "# D8 Flow Direction"
   ]
  },
  {
   "cell_type": "code",
   "execution_count": 13,
   "id": "1d6e0439-bc14-4ea1-961c-27867bd978f3",
   "metadata": {
    "tags": []
   },
   "outputs": [
    {
     "name": "stdout",
     "output_type": "stream",
     "text": [
      "✅ Calculating D8 Flow Direction...\n"
     ]
    },
    {
     "data": {
      "text/plain": [
       "0"
      ]
     },
     "execution_count": 13,
     "metadata": {},
     "output_type": "execute_result"
    }
   ],
   "source": [
    "print(\"✅ Calculating D8 Flow Direction...\")\n",
    "wbt.d8_pointer(\n",
    "    dem=breached_dem,\n",
    "    output=flow_dir\n",
    ")"
   ]
  },
  {
   "cell_type": "markdown",
   "id": "ce8ebaa1-d1b0-4623-b6cc-39ef81695171",
   "metadata": {
    "tags": []
   },
   "source": [
    "# Flow Accumulation"
   ]
  },
  {
   "cell_type": "code",
   "execution_count": 16,
   "id": "908197da-37aa-4da9-9334-1e9245a2ea0c",
   "metadata": {},
   "outputs": [
    {
     "name": "stdout",
     "output_type": "stream",
     "text": [
      "✅ Calculating Flow Accumulation...\n"
     ]
    },
    {
     "data": {
      "text/plain": [
       "0"
      ]
     },
     "execution_count": 16,
     "metadata": {},
     "output_type": "execute_result"
    }
   ],
   "source": [
    "print(\"✅ Calculating Flow Accumulation...\")\n",
    "wbt.d8_flow_accumulation(\n",
    "    i=breached_dem,\n",
    "    output=flow_acc,\n",
    "    out_type='cells'\n",
    ")"
   ]
  },
  {
   "cell_type": "markdown",
   "id": "10ef4ccb-e2d4-47ae-8f18-f0c2248c80a1",
   "metadata": {
    "tags": []
   },
   "source": [
    "# Extract Streams"
   ]
  },
  {
   "cell_type": "code",
   "execution_count": 17,
   "id": "0d3ee457-461e-41f0-93cc-b2679e6130c7",
   "metadata": {},
   "outputs": [
    {
     "name": "stdout",
     "output_type": "stream",
     "text": [
      "✅ Extracting streams with threshold: 5000\n"
     ]
    },
    {
     "data": {
      "text/plain": [
       "0"
      ]
     },
     "execution_count": 17,
     "metadata": {},
     "output_type": "execute_result"
    }
   ],
   "source": [
    "threshold = 5000\n",
    "print(f\"✅ Extracting streams with threshold: {threshold}\")\n",
    "wbt.extract_streams(\n",
    "    flow_accum=flow_acc,\n",
    "    output=streams,\n",
    "    threshold=threshold\n",
    ")"
   ]
  },
  {
   "cell_type": "markdown",
   "id": "7c8f21f6-b38c-43cb-b16c-865a737d70f5",
   "metadata": {
    "tags": []
   },
   "source": [
    "# Compute HAND"
   ]
  },
  {
   "cell_type": "code",
   "execution_count": 22,
   "id": "a89d528a-bf6c-437e-a720-54af646dc16f",
   "metadata": {},
   "outputs": [
    {
     "name": "stdout",
     "output_type": "stream",
     "text": [
      "✅ Computing HAND...\n"
     ]
    },
    {
     "data": {
      "text/plain": [
       "0"
      ]
     },
     "execution_count": 22,
     "metadata": {},
     "output_type": "execute_result"
    }
   ],
   "source": [
    "print(\"✅ Computing HAND...\")\n",
    "wbt.elevation_above_stream(\n",
    "    dem=breached_dem,\n",
    "    streams=streams,\n",
    "    output=hand_output\n",
    ")\n"
   ]
  }
 ],
 "metadata": {
  "kernelspec": {
   "display_name": "climate-hazard",
   "language": "python",
   "name": "climate-hazard"
  },
  "language_info": {
   "codemirror_mode": {
    "name": "ipython",
    "version": 3
   },
   "file_extension": ".py",
   "mimetype": "text/x-python",
   "name": "python",
   "nbconvert_exporter": "python",
   "pygments_lexer": "ipython3",
   "version": "3.11.5"
  }
 },
 "nbformat": 4,
 "nbformat_minor": 5
}
