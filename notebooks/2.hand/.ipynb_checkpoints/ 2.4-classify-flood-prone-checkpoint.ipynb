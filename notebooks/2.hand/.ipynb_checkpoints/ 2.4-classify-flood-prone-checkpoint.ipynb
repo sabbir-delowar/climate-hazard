{
 "cells": [
  {
   "cell_type": "markdown",
   "id": "28d04ef4-456b-435a-ba5e-39236e26f960",
   "metadata": {
    "tags": []
   },
   "source": [
    "# Import Libraries"
   ]
  },
  {
   "cell_type": "code",
   "execution_count": 2,
   "id": "b02a27dc-67a7-4a7e-b8ab-a750dfd9310d",
   "metadata": {
    "tags": []
   },
   "outputs": [],
   "source": [
    "import os\n",
    "import numpy as np\n",
    "import rasterio\n",
    "import rioxarray\n",
    "import geopandas as gpd\n",
    "import pandas as pd\n",
    "import matplotlib.pyplot as plt"
   ]
  },
  {
   "cell_type": "code",
   "execution_count": 3,
   "id": "e3724269-189f-4c42-80fe-5749787ac56a",
   "metadata": {},
   "outputs": [],
   "source": [
    "os.chdir('/Users/sabbirdelowar/projects/climate-hazard')"
   ]
  },
  {
   "cell_type": "markdown",
   "id": "3bf3e9fa-26f2-407f-9ee0-383f77619b56",
   "metadata": {
    "tags": []
   },
   "source": [
    "# Define Paths"
   ]
  },
  {
   "cell_type": "code",
   "execution_count": 10,
   "id": "46e0a477-daaf-4946-89f8-96467008fd77",
   "metadata": {
    "tags": []
   },
   "outputs": [],
   "source": [
    "# Inputs\n",
    "input_hand_tif = \"data/interim/hand/hand.tif\"\n",
    "aoi_shp = \"data/aoi/aoi-multipoly.shp\"\n",
    "\n",
    "# Outputs\n",
    "hand_dir = \"data/interim/hand\"\n",
    "os.makedirs(hand_dir, exist_ok=True)\n",
    "output_normalised_tif = os.path.join(hand_dir, \"hand-normalised.tif\")\n",
    "\n",
    "results_dir = \"results/individual-hazards\"\n",
    "os.makedirs(results_dir, exist_ok=True)\n",
    "output_csv = os.path.join(results_dir, \"hand-hazard.csv\")"
   ]
  },
  {
   "cell_type": "markdown",
   "id": "3809e7b0-c80e-4bb7-8356-02d0ad93d3f2",
   "metadata": {
    "tags": []
   },
   "source": [
    "# Normalise HAND raster to 0–1"
   ]
  },
  {
   "cell_type": "code",
   "execution_count": 6,
   "id": "04e5d7e5-4040-44d0-a25c-97385389824c",
   "metadata": {
    "tags": []
   },
   "outputs": [],
   "source": [
    "with rasterio.open(input_hand_tif) as src:\n",
    "    hand_data = src.read(1)\n",
    "    profile = src.profile.copy()\n",
    "    \n",
    "max_threshold = 10.0  # HAND above 10m = low risk\n",
    "\n",
    "# Apply normalisation\n",
    "hand_normalised = 1 - (hand_data / max_threshold)\n",
    "hand_normalised = np.clip(hand_normalised, 0, 1)\n",
    "\n",
    "profile.update({\n",
    "    \"dtype\": 'float32',\n",
    "    \"count\": 1,\n",
    "    \"compress\": 'lzw',\n",
    "    \"nodata\": None\n",
    "})\n",
    "\n",
    "with rasterio.open(output_normalised_tif, 'w', **profile) as dst:\n",
    "    dst.write(hand_normalised, 1)"
   ]
  },
  {
   "cell_type": "markdown",
   "id": "0fb9712b-2c8a-4476-96e5-eb9e7efbec41",
   "metadata": {
    "tags": []
   },
   "source": [
    "# Zonal statistics: mean HAND hazard per district"
   ]
  },
  {
   "cell_type": "code",
   "execution_count": 11,
   "id": "427ab1b2-13a1-43f5-bc0e-4af2c8e4d458",
   "metadata": {
    "tags": []
   },
   "outputs": [],
   "source": [
    "aoi = gpd.read_file(aoi_shp)\n",
    "\n",
    "with rasterio.open(output_normalised_tif) as src:\n",
    "    hand_crs = src.crs\n",
    "\n",
    "aoi = aoi.to_crs(hand_crs)\n",
    "\n",
    "aoi_names = []\n",
    "aoi_scores = []\n",
    "\n",
    "with rasterio.open(output_normalised_tif) as src:\n",
    "    for idx, row in aoi.iterrows():\n",
    "        geom = [row.geometry]\n",
    "        try:\n",
    "            out_image, out_transform = rasterio.mask.mask(src, geom, crop=True)\n",
    "            data = out_image[0]\n",
    "            data = data[data >= 0]  # exclude negative or nodata\n",
    "            if data.size > 0:\n",
    "                mean_val = round(float(data.mean()), 4)\n",
    "            else:\n",
    "                mean_val = None\n",
    "        except ValueError:\n",
    "            # Polygon outside raster\n",
    "            mean_val = None\n",
    "\n",
    "        aoi_names.append(row[\"name\"])\n",
    "        aoi_scores.append(mean_val)"
   ]
  },
  {
   "cell_type": "markdown",
   "id": "29c5e5ed-fe09-4662-bf1f-8b855cd63f08",
   "metadata": {
    "tags": []
   },
   "source": [
    "# Save district-level hazard CSV"
   ]
  },
  {
   "cell_type": "code",
   "execution_count": 14,
   "id": "e3dabc45-9ed1-4d03-afad-96e7402d2e8f",
   "metadata": {},
   "outputs": [],
   "source": [
    "df = pd.DataFrame({\n",
    "    \"district\": aoi_names,\n",
    "    \"hand_hazard\": aoi_scores\n",
    "})\n",
    "\n",
    "df.to_csv(output_csv, index=False)"
   ]
  }
 ],
 "metadata": {
  "kernelspec": {
   "display_name": "climate-hazard",
   "language": "python",
   "name": "climate-hazard"
  },
  "language_info": {
   "codemirror_mode": {
    "name": "ipython",
    "version": 3
   },
   "file_extension": ".py",
   "mimetype": "text/x-python",
   "name": "python",
   "nbconvert_exporter": "python",
   "pygments_lexer": "ipython3",
   "version": "3.11.5"
  }
 },
 "nbformat": 4,
 "nbformat_minor": 5
}
