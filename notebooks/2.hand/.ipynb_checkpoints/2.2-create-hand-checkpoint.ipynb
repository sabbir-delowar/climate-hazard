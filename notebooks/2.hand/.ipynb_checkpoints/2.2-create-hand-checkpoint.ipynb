{
 "cells": [
  {
   "cell_type": "markdown",
   "id": "134cda36-4ca5-43d7-b848-6b1ba03ce904",
   "metadata": {
    "tags": []
   },
   "source": [
    "# Import Libraries"
   ]
  },
  {
   "cell_type": "code",
   "execution_count": 1,
   "id": "ae77a793-e7e2-4e44-8de3-cbaf7382cd2f",
   "metadata": {
    "tags": []
   },
   "outputs": [],
   "source": [
    "import os\n",
    "import glob\n",
    "import geopandas as gpd\n",
    "import rasterio\n",
    "from rasterio.merge import merge\n",
    "from rasterio.mask import mask\n",
    "import matplotlib.pyplot as plt\n",
    "from tqdm import tqdm"
   ]
  },
  {
   "cell_type": "code",
   "execution_count": 2,
   "id": "9b655ab8-3ce0-47a6-be1c-7cc75d916896",
   "metadata": {},
   "outputs": [],
   "source": [
    "os.chdir('/Users/sabbirdelowar/projects/climate-hazard')"
   ]
  },
  {
   "cell_type": "markdown",
   "id": "d79ed0bb-e2a4-4baf-bb5a-4c641ab38c7a",
   "metadata": {
    "tags": []
   },
   "source": [
    "# Define Paths"
   ]
  },
  {
   "cell_type": "code",
   "execution_count": 3,
   "id": "b307bd23-7a54-4ed9-88fd-ee7ca9294c90",
   "metadata": {
    "tags": []
   },
   "outputs": [],
   "source": [
    "aoi_path = \"data/aoi/aoi-multipoly.shp\"\n",
    "tiles_folder = \"data/interim/fabdem\"\n",
    "output_dir = \"data/interim/hand\"\n",
    "os.makedirs(output_dir, exist_ok=True)\n",
    "output_mosaic = os.path.join(output_dir, \"hand-dem.tif\")"
   ]
  },
  {
   "cell_type": "markdown",
   "id": "2b5bd30e-d859-4f7b-ac5b-1839b675fcb1",
   "metadata": {
    "tags": []
   },
   "source": [
    "# Load All Files"
   ]
  },
  {
   "cell_type": "code",
   "execution_count": 4,
   "id": "3470063c-daa1-43fd-b9f1-7af6e74df2af",
   "metadata": {
    "tags": []
   },
   "outputs": [],
   "source": [
    "aoi = gpd.read_file(aoi_path)\n",
    "aoi = aoi.to_crs(\"EPSG:4326\")\n",
    "\n",
    "tif_files = glob.glob(os.path.join(tiles_folder, \"*.tif\"))"
   ]
  },
  {
   "cell_type": "markdown",
   "id": "3d8e615a-3ab1-4590-892d-eb1173c9c251",
   "metadata": {
    "tags": []
   },
   "source": [
    "# Mosaic Tiles"
   ]
  },
  {
   "cell_type": "code",
   "execution_count": 5,
   "id": "5a5bb1b5-5ebb-4d29-8152-8166c814b663",
   "metadata": {
    "tags": []
   },
   "outputs": [
    {
     "name": "stdout",
     "output_type": "stream",
     "text": [
      "✅ Mosaicking tiles. This may take a few minutes...\n",
      "✅ Mosaic complete!\n"
     ]
    }
   ],
   "source": [
    "print(\"✅ Mosaicking tiles. This may take a few minutes...\")\n",
    "\n",
    "src_files_to_mosaic = [rasterio.open(fp) for fp in tif_files]\n",
    "mosaic, out_transform = merge(src_files_to_mosaic)\n",
    "\n",
    "print(\"✅ Mosaic complete!\")"
   ]
  },
  {
   "cell_type": "markdown",
   "id": "9927cc72-d93b-45a9-90cc-b37805e531e3",
   "metadata": {
    "tags": []
   },
   "source": [
    "# Clip Mosaic to AOI"
   ]
  },
  {
   "cell_type": "code",
   "execution_count": 6,
   "id": "26ed736a-c55f-4977-9325-7b53e55ee4b4",
   "metadata": {
    "tags": []
   },
   "outputs": [],
   "source": [
    "aoi_geom = [feature[\"geometry\"] for feature in aoi.__geo_interface__[\"features\"]]\n",
    "\n",
    "# Use metadata from one tile as template\n",
    "meta = src_files_to_mosaic[0].meta.copy()\n",
    "meta.update({\n",
    "    \"driver\": \"GTiff\",\n",
    "    \"height\": mosaic.shape[1],\n",
    "    \"width\": mosaic.shape[2],\n",
    "    \"transform\": out_transform,\n",
    "    \"crs\": \"EPSG:4326\"\n",
    "})\n",
    "\n",
    "# Clip to AOI\n",
    "with rasterio.io.MemoryFile() as memfile:\n",
    "    with memfile.open(**meta) as dataset:\n",
    "        dataset.write(mosaic)\n",
    "        clipped_image, clipped_transform = mask(\n",
    "            dataset=dataset,\n",
    "            shapes=aoi_geom,\n",
    "            crop=True\n",
    "        )\n",
    "        \n",
    "out_meta = meta.copy()\n",
    "out_meta.update({\n",
    "    \"height\": clipped_image.shape[1],\n",
    "    \"width\": clipped_image.shape[2],\n",
    "    \"transform\": clipped_transform,\n",
    "    \"compress\": \"lzw\"\n",
    "})\n",
    "\n",
    "with rasterio.open(output_mosaic, \"w\", **out_meta) as dest:\n",
    "    dest.write(clipped_image)"
   ]
  }
 ],
 "metadata": {
  "kernelspec": {
   "display_name": "climate-hazard",
   "language": "python",
   "name": "climate-hazard"
  },
  "language_info": {
   "codemirror_mode": {
    "name": "ipython",
    "version": 3
   },
   "file_extension": ".py",
   "mimetype": "text/x-python",
   "name": "python",
   "nbconvert_exporter": "python",
   "pygments_lexer": "ipython3",
   "version": "3.11.5"
  }
 },
 "nbformat": 4,
 "nbformat_minor": 5
}
