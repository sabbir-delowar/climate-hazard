{
 "cells": [
  {
   "cell_type": "markdown",
   "id": "e054c3c2-de43-4fb0-8c60-11b41a7f6659",
   "metadata": {
    "tags": []
   },
   "source": [
    "# Import Libraries"
   ]
  },
  {
   "cell_type": "code",
   "execution_count": 1,
   "id": "3cab7571-b7e7-4c4d-93ce-6059886d1f64",
   "metadata": {
    "tags": []
   },
   "outputs": [],
   "source": [
    "import pandas as pd\n",
    "import matplotlib.pyplot as plt\n",
    "import os"
   ]
  },
  {
   "cell_type": "code",
   "execution_count": 2,
   "id": "37db9090-f741-48a1-8103-3c30902dfb6d",
   "metadata": {},
   "outputs": [],
   "source": [
    "os.chdir('/Users/sabbirdelowar/projects/climate-hazard')"
   ]
  },
  {
   "cell_type": "markdown",
   "id": "49ffe358-8863-4908-91ea-b4c19722ac3d",
   "metadata": {
    "tags": []
   },
   "source": [
    "# Define Paths"
   ]
  },
  {
   "cell_type": "code",
   "execution_count": 3,
   "id": "66083ea5-4447-4336-b5d4-0ecdeb5e6be7",
   "metadata": {
    "tags": []
   },
   "outputs": [],
   "source": [
    "rainfall_csv = \"results/individual-hazards/rainfall-hazard.csv\"\n",
    "hand_csv = \"results/individual-hazards/hand-hazard.csv\"\n",
    "\n",
    "output_dir = \"results/individual-hazards\"\n",
    "os.makedirs(output_dir, exist_ok=True)\n",
    "output_csv = os.path.join(output_dir, \"combined-flood-hazard.csv\")"
   ]
  },
  {
   "cell_type": "markdown",
   "id": "6b5167d4-2a08-4ece-ad49-24662ca751ed",
   "metadata": {
    "tags": []
   },
   "source": [
    "# Compute combined hazard"
   ]
  },
  {
   "cell_type": "code",
   "execution_count": 4,
   "id": "ad40d922-3685-48d6-9706-02b03a12aac6",
   "metadata": {
    "tags": []
   },
   "outputs": [],
   "source": [
    "rainfall_df = pd.read_csv(rainfall_csv)\n",
    "hand_df = pd.read_csv(hand_csv)\n",
    "\n",
    "combined_df = pd.merge(\n",
    "    rainfall_df,\n",
    "    hand_df,\n",
    "    on='district',\n",
    "    how='inner'\n",
    ")\n",
    "\n",
    "combined_df['combined_flood_hazard'] = (\n",
    "    0.5 * combined_df['rainfall_hazard'] + 0.5 * combined_df['hand_hazard']\n",
    ")\n",
    "\n",
    "combined_df['combined_flood_hazard'] = combined_df['combined_flood_hazard'].clip(0, 1)\n",
    "\n",
    "combined_df.to_csv(output_csv, index=False)"
   ]
  },
  {
   "cell_type": "code",
   "execution_count": null,
   "id": "1c012863-9f23-44e0-8e91-45cdf4ea6c6d",
   "metadata": {},
   "outputs": [],
   "source": []
  }
 ],
 "metadata": {
  "kernelspec": {
   "display_name": "climate-hazard",
   "language": "python",
   "name": "climate-hazard"
  },
  "language_info": {
   "codemirror_mode": {
    "name": "ipython",
    "version": 3
   },
   "file_extension": ".py",
   "mimetype": "text/x-python",
   "name": "python",
   "nbconvert_exporter": "python",
   "pygments_lexer": "ipython3",
   "version": "3.11.5"
  }
 },
 "nbformat": 4,
 "nbformat_minor": 5
}
