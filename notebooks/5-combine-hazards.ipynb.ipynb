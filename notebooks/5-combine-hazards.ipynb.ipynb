{
 "cells": [
  {
   "cell_type": "markdown",
   "id": "3fa47db1-a09b-4fc2-b5c7-38a138b56e0b",
   "metadata": {
    "tags": []
   },
   "source": [
    "# Import Libraries"
   ]
  },
  {
   "cell_type": "code",
   "execution_count": 1,
   "id": "b810e99a-ba7b-49a9-95f9-2e98446b7445",
   "metadata": {
    "tags": []
   },
   "outputs": [],
   "source": [
    "import pandas as pd\n",
    "import geopandas as gpd\n",
    "import os"
   ]
  },
  {
   "cell_type": "code",
   "execution_count": 2,
   "id": "58b77bc7-1d87-4536-bdf7-c269599a047b",
   "metadata": {},
   "outputs": [],
   "source": [
    "os.chdir('/Users/sabbirdelowar/projects/climate-hazard')"
   ]
  },
  {
   "cell_type": "markdown",
   "id": "c6a21ae5-94e5-469a-981b-83be3558c5a9",
   "metadata": {
    "tags": []
   },
   "source": [
    "# Define Paths"
   ]
  },
  {
   "cell_type": "code",
   "execution_count": 3,
   "id": "fa87f81e-59a5-465f-a0f5-040385ac45a9",
   "metadata": {
    "tags": []
   },
   "outputs": [],
   "source": [
    "district_shp = \"data/aoi/aoi-multipoly.shp\"\n",
    "\n",
    "flood_csv = \"results/individual-hazards/combined-flood-hazard.csv\"\n",
    "heat_csv = \"results/individual-hazards/heat-hazard.csv\"\n",
    "\n",
    "output_dir = \"results/total-hazard/\"\n",
    "os.makedirs(output_dir, exist_ok=True)\n",
    "\n",
    "output_csv = os.path.join(output_dir, \"total-hazard.csv\")\n",
    "output_shp = os.path.join(output_dir, \"total-hazard.shp\")"
   ]
  },
  {
   "cell_type": "markdown",
   "id": "a287b37f-3390-433c-a443-c73dc7bc3e22",
   "metadata": {
    "tags": []
   },
   "source": [
    "# Load and merge files"
   ]
  },
  {
   "cell_type": "code",
   "execution_count": 4,
   "id": "ca0685cc-a332-474d-a317-b19b2d50a6a6",
   "metadata": {
    "tags": []
   },
   "outputs": [],
   "source": [
    "gdf = gpd.read_file(district_shp)\n",
    "gdf = gdf[['name', 'geometry']].copy()\n",
    "gdf = gdf.rename(columns={'name': 'district'})\n",
    "\n",
    "flood_df = pd.read_csv(flood_csv)\n",
    "heat_df = pd.read_csv(heat_csv)\n",
    "\n",
    "hazard_df = gdf.merge(flood_df, on='district', how='left')\n",
    "hazard_df = hazard_df.merge(heat_df, on='district', how='left')"
   ]
  },
  {
   "cell_type": "markdown",
   "id": "b1ba7a09-0a61-47ee-a069-57fdfdb63127",
   "metadata": {
    "tags": []
   },
   "source": [
    "# Total hazard score"
   ]
  },
  {
   "cell_type": "code",
   "execution_count": 5,
   "id": "8c2ef3d4-4dea-4b49-8b43-efc810b3fbcf",
   "metadata": {
    "tags": []
   },
   "outputs": [
    {
     "name": "stderr",
     "output_type": "stream",
     "text": [
      "/var/folders/jy/g9772s813r1_7hf30839fclc0000gn/T/ipykernel_31481/2924707713.py:12: UserWarning: Column names longer than 10 characters will be truncated when saved to ESRI Shapefile.\n",
      "  hazard_df.to_file(output_shp)\n"
     ]
    }
   ],
   "source": [
    "hazard_df['total_hazard'] = (\n",
    "    hazard_df['combined_flood_hazard'] + \n",
    "    hazard_df['heat_hazard']\n",
    ")\n",
    "\n",
    "# Optionally normalize 0–1\n",
    "max_total = hazard_df['total_hazard'].max()\n",
    "hazard_df['total_hazard_normalized'] = hazard_df['total_hazard'] / max_total\n",
    "\n",
    "hazard_df_nogeo = hazard_df.drop(columns='geometry')\n",
    "hazard_df_nogeo.to_csv(output_csv, index=False)\n",
    "hazard_df.to_file(output_shp)"
   ]
  },
  {
   "cell_type": "code",
   "execution_count": null,
   "id": "0fb3b614-de0b-429b-8d3c-bbb3705939cf",
   "metadata": {},
   "outputs": [],
   "source": []
  }
 ],
 "metadata": {
  "kernelspec": {
   "display_name": "climate-hazard",
   "language": "python",
   "name": "climate-hazard"
  },
  "language_info": {
   "codemirror_mode": {
    "name": "ipython",
    "version": 3
   },
   "file_extension": ".py",
   "mimetype": "text/x-python",
   "name": "python",
   "nbconvert_exporter": "python",
   "pygments_lexer": "ipython3",
   "version": "3.11.5"
  }
 },
 "nbformat": 4,
 "nbformat_minor": 5
}
